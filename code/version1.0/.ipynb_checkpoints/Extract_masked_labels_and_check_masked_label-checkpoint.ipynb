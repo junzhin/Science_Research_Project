{
 "cells": [
  {
   "cell_type": "markdown",
   "metadata": {},
   "source": [
    "# Loading the relevant libraries"
   ]
  },
  {
   "cell_type": "code",
   "execution_count": 6,
   "metadata": {},
   "outputs": [],
   "source": [
    "import os\n",
    "import pandas as pd \n",
    "import numpy as np\n",
    "import torch\n",
    "import torchvision\n",
    "import torch\n",
    "from torch.utils.tensorboard import SummaryWriter\n",
    "import torch.nn as nn\n",
    "import torch.optim as optim\n",
    "import torch.nn.functional as F\n",
    "from collections import Counter\n",
    "from torchvision import transforms, utils, datasets\n",
    "from torch.utils.data import Dataset, DataLoader, random_split, SubsetRandomSampler, WeightedRandomSampler"
   ]
  },
  {
   "cell_type": "code",
   "execution_count": 36,
   "metadata": {},
   "outputs": [],
   "source": [
    "imagenet_label_list = pd.read_csv(r\"/home/junzhin/Project/Summer_project/code/version1.0/imagenet_labels_set.txt\", sep = \" \",header = None)"
   ]
  },
  {
   "cell_type": "code",
   "execution_count": 37,
   "metadata": {},
   "outputs": [],
   "source": [
    "imagenet_label_list_dict = dict(zip(imagenet_label_list[2].apply(lambda x: x.lower()), imagenet_label_list[0]))"
   ]
  },
  {
   "cell_type": "markdown",
   "metadata": {},
   "source": [
    "\n",
    "# Checking the directory of the imagenet and make sure the existence and presence of the labels"
   ]
  },
  {
   "cell_type": "code",
   "execution_count": 7,
   "metadata": {},
   "outputs": [
    {
     "data": {
      "text/plain": [
       "['face_annotations_ILSVRC.json', 'train_blurred', 'val_blurred']"
      ]
     },
     "execution_count": 7,
     "metadata": {},
     "output_type": "execute_result"
    }
   ],
   "source": [
    "your_path =r\"/data/gpfs/datasets/Imagenet/\" \n",
    "file_dir = os.listdir(your_path)\n",
    "file_dir"
   ]
  },
  {
   "cell_type": "code",
   "execution_count": 8,
   "metadata": {},
   "outputs": [
    {
     "name": "stdout",
     "output_type": "stream",
     "text": [
      "1000\n",
      "1000\n"
     ]
    }
   ],
   "source": [
    "train_filenames = os.listdir(your_path + file_dir[1])\n",
    "valid_filenames = os.listdir(your_path + file_dir[2])\n",
    "print(len(train_filenames))\n",
    "print(len(valid_filenames))"
   ]
  },
  {
   "cell_type": "code",
   "execution_count": 42,
   "metadata": {},
   "outputs": [
    {
     "name": "stdout",
     "output_type": "stream",
     "text": [
      "True\n"
     ]
    }
   ],
   "source": [
    "print(set(train_filenames) == set(valid_filenames))"
   ]
  },
  {
   "cell_type": "code",
   "execution_count": 43,
   "metadata": {},
   "outputs": [],
   "source": [
    "imagenet_training_filePath = os.path.join(your_path, file_dir[1])\n",
    "imagenet_valid_filePath = os.path.join(your_path, file_dir[2])\n"
   ]
  },
  {
   "cell_type": "code",
   "execution_count": 44,
   "metadata": {},
   "outputs": [],
   "source": [
    "\n",
    "image_net_train_dataset = datasets.ImageFolder(\n",
    "        imagenet_training_filePath)\n"
   ]
  },
  {
   "cell_type": "markdown",
   "metadata": {},
   "source": [
    "# Open the office31 dataset and extract the labels "
   ]
  },
  {
   "cell_type": "code",
   "execution_count": 45,
   "metadata": {},
   "outputs": [
    {
     "ename": "FileNotFoundError",
     "evalue": "[Errno 2] No such file or directory: '/home/junzhin/Project/datasets/domain_adaptation_images/'",
     "output_type": "error",
     "traceback": [
      "\u001b[0;31m---------------------------------------------------------------------------\u001b[0m",
      "\u001b[0;31mFileNotFoundError\u001b[0m                         Traceback (most recent call last)",
      "\u001b[0;32m<ipython-input-45-ec70694c014a>\u001b[0m in \u001b[0;36m<module>\u001b[0;34m\u001b[0m\n\u001b[1;32m      1\u001b[0m \u001b[0moffice31_path\u001b[0m \u001b[0;34m=\u001b[0m\u001b[0;34mr\"/home/junzhin/Project/datasets/domain_adaptation_images/\"\u001b[0m\u001b[0;34m\u001b[0m\u001b[0;34m\u001b[0m\u001b[0m\n\u001b[0;32m----> 2\u001b[0;31m \u001b[0moffice31_dir\u001b[0m \u001b[0;34m=\u001b[0m \u001b[0mos\u001b[0m\u001b[0;34m.\u001b[0m\u001b[0mlistdir\u001b[0m\u001b[0;34m(\u001b[0m\u001b[0moffice31_path\u001b[0m\u001b[0;34m)\u001b[0m\u001b[0;34m\u001b[0m\u001b[0;34m\u001b[0m\u001b[0m\n\u001b[0m\u001b[1;32m      3\u001b[0m \u001b[0mamazon_file_path\u001b[0m \u001b[0;34m=\u001b[0m \u001b[0mos\u001b[0m\u001b[0;34m.\u001b[0m\u001b[0mpath\u001b[0m\u001b[0;34m.\u001b[0m\u001b[0mjoin\u001b[0m\u001b[0;34m(\u001b[0m\u001b[0moffice31_path\u001b[0m\u001b[0;34m,\u001b[0m \u001b[0moffice31_dir\u001b[0m\u001b[0;34m[\u001b[0m\u001b[0;36m0\u001b[0m\u001b[0;34m]\u001b[0m\u001b[0;34m+\u001b[0m \u001b[0;34m\"/images/\"\u001b[0m\u001b[0;34m)\u001b[0m\u001b[0;34m\u001b[0m\u001b[0;34m\u001b[0m\u001b[0m\n\u001b[1;32m      4\u001b[0m \u001b[0mdslr_file_path\u001b[0m \u001b[0;34m=\u001b[0m \u001b[0mos\u001b[0m\u001b[0;34m.\u001b[0m\u001b[0mpath\u001b[0m\u001b[0;34m.\u001b[0m\u001b[0mjoin\u001b[0m\u001b[0;34m(\u001b[0m\u001b[0moffice31_path\u001b[0m\u001b[0;34m,\u001b[0m \u001b[0moffice31_dir\u001b[0m\u001b[0;34m[\u001b[0m\u001b[0;36m1\u001b[0m\u001b[0;34m]\u001b[0m\u001b[0;34m+\u001b[0m \u001b[0;34m\"/images/\"\u001b[0m\u001b[0;34m)\u001b[0m\u001b[0;34m\u001b[0m\u001b[0;34m\u001b[0m\u001b[0m\n\u001b[1;32m      5\u001b[0m \u001b[0mwebcam_file_path\u001b[0m \u001b[0;34m=\u001b[0m \u001b[0mos\u001b[0m\u001b[0;34m.\u001b[0m\u001b[0mpath\u001b[0m\u001b[0;34m.\u001b[0m\u001b[0mjoin\u001b[0m\u001b[0;34m(\u001b[0m\u001b[0moffice31_path\u001b[0m\u001b[0;34m,\u001b[0m \u001b[0moffice31_dir\u001b[0m\u001b[0;34m[\u001b[0m\u001b[0;36m2\u001b[0m\u001b[0;34m]\u001b[0m\u001b[0;34m+\u001b[0m \u001b[0;34m\"/images/\"\u001b[0m\u001b[0;34m)\u001b[0m\u001b[0;34m\u001b[0m\u001b[0;34m\u001b[0m\u001b[0m\n",
      "\u001b[0;31mFileNotFoundError\u001b[0m: [Errno 2] No such file or directory: '/home/junzhin/Project/datasets/domain_adaptation_images/'"
     ]
    }
   ],
   "source": [
    "office31_path =r\"/home/junzhin/Project/datasets/domain_adaptation_images/\"\n",
    "office31_dir = os.listdir(office31_path)\n",
    "amazon_file_path = os.path.join(office31_path, office31_dir[0]+ \"/images/\")\n",
    "dslr_file_path = os.path.join(office31_path, office31_dir[1]+ \"/images/\")\n",
    "webcam_file_path = os.path.join(office31_path, office31_dir[2]+ \"/images/\")\n",
    "print(office31_dir)"
   ]
  },
  {
   "cell_type": "markdown",
   "metadata": {},
   "source": [
    "## Checking if three domains have the same set of class labels"
   ]
  },
  {
   "cell_type": "code",
   "execution_count": 12,
   "metadata": {},
   "outputs": [
    {
     "ename": "NameError",
     "evalue": "name 'amazon_file_path' is not defined",
     "output_type": "error",
     "traceback": [
      "\u001b[0;31m---------------------------------------------------------------------------\u001b[0m",
      "\u001b[0;31mNameError\u001b[0m                                 Traceback (most recent call last)",
      "\u001b[0;32m<ipython-input-12-3473d06aec9f>\u001b[0m in \u001b[0;36m<module>\u001b[0;34m\u001b[0m\n\u001b[0;32m----> 1\u001b[0;31m \u001b[0mamazon\u001b[0m \u001b[0;34m=\u001b[0m  \u001b[0mos\u001b[0m\u001b[0;34m.\u001b[0m\u001b[0mlistdir\u001b[0m\u001b[0;34m(\u001b[0m\u001b[0mamazon_file_path\u001b[0m\u001b[0;34m)\u001b[0m\u001b[0;34m\u001b[0m\u001b[0;34m\u001b[0m\u001b[0m\n\u001b[0m\u001b[1;32m      2\u001b[0m \u001b[0mdslr\u001b[0m \u001b[0;34m=\u001b[0m  \u001b[0mos\u001b[0m\u001b[0;34m.\u001b[0m\u001b[0mlistdir\u001b[0m\u001b[0;34m(\u001b[0m\u001b[0mdslr_file_path\u001b[0m\u001b[0;34m)\u001b[0m\u001b[0;34m\u001b[0m\u001b[0;34m\u001b[0m\u001b[0m\n\u001b[1;32m      3\u001b[0m \u001b[0mwebcam\u001b[0m \u001b[0;34m=\u001b[0m  \u001b[0mos\u001b[0m\u001b[0;34m.\u001b[0m\u001b[0mlistdir\u001b[0m\u001b[0;34m(\u001b[0m\u001b[0mwebcam_file_path\u001b[0m\u001b[0;34m)\u001b[0m\u001b[0;34m\u001b[0m\u001b[0;34m\u001b[0m\u001b[0m\n\u001b[1;32m      4\u001b[0m \u001b[0;34m\u001b[0m\u001b[0m\n",
      "\u001b[0;31mNameError\u001b[0m: name 'amazon_file_path' is not defined"
     ]
    }
   ],
   "source": [
    "amazon =  os.listdir(amazon_file_path)\n",
    "dslr =  os.listdir(dslr_file_path)\n",
    "webcam =  os.listdir(webcam_file_path)\n",
    " "
   ]
  },
  {
   "cell_type": "code",
   "execution_count": null,
   "metadata": {},
   "outputs": [
    {
     "name": "stdout",
     "output_type": "stream",
     "text": [
      "True\n"
     ]
    }
   ],
   "source": [
    "print(set(amazon) == set(dslr) == set(webcam))"
   ]
  },
  {
   "cell_type": "markdown",
   "metadata": {},
   "source": [
    "## Loading one of the domains of the class labels for further manipulation"
   ]
  },
  {
   "cell_type": "code",
   "execution_count": 13,
   "metadata": {},
   "outputs": [
    {
     "ename": "NameError",
     "evalue": "name 'amazon_file_path' is not defined",
     "output_type": "error",
     "traceback": [
      "\u001b[0;31m---------------------------------------------------------------------------\u001b[0m",
      "\u001b[0;31mNameError\u001b[0m                                 Traceback (most recent call last)",
      "\u001b[0;32m<ipython-input-13-86a8df50eb3d>\u001b[0m in \u001b[0;36m<module>\u001b[0;34m\u001b[0m\n\u001b[1;32m      1\u001b[0m office_31_train_dataset = datasets.ImageFolder(\n\u001b[0;32m----> 2\u001b[0;31m         amazon_file_path)\n\u001b[0m\u001b[1;32m      3\u001b[0m \u001b[0moffice_31_train_dataset\u001b[0m\u001b[0;34m\u001b[0m\u001b[0;34m\u001b[0m\u001b[0m\n\u001b[1;32m      4\u001b[0m \u001b[0;34m\u001b[0m\u001b[0m\n",
      "\u001b[0;31mNameError\u001b[0m: name 'amazon_file_path' is not defined"
     ]
    }
   ],
   "source": [
    "office_31_train_dataset = datasets.ImageFolder(\n",
    "        amazon_file_path)\n",
    "office_31_train_dataset\n",
    "\n"
   ]
  },
  {
   "cell_type": "code",
   "execution_count": null,
   "metadata": {},
   "outputs": [
    {
     "name": "stdout",
     "output_type": "stream",
     "text": [
      "{0: 92, 1: 82, 2: 72, 3: 82, 4: 36, 5: 94, 6: 91, 7: 97, 8: 97, 9: 81, 10: 99, 11: 100, 12: 100, 13: 98, 14: 100, 15: 99, 16: 100, 17: 94, 18: 96, 19: 95, 20: 93, 21: 100, 22: 98, 23: 98, 24: 90, 25: 75, 26: 100, 27: 99, 28: 99, 29: 96, 30: 64}\n",
      "['back_pack', 'bike', 'bike_helmet', 'bookcase', 'bottle', 'calculator', 'desk_chair', 'desk_lamp', 'desktop_computer', 'file_cabinet', 'headphones', 'keyboard', 'laptop_computer', 'letter_tray', 'mobile_phone', 'monitor', 'mouse', 'mug', 'paper_notebook', 'pen', 'phone', 'printer', 'projector', 'punchers', 'ring_binder', 'ruler', 'scissors', 'speaker', 'stapler', 'tape_dispenser', 'trash_can']\n"
     ]
    }
   ],
   "source": [
    "print(dict(Counter(office_31_train_dataset.targets)))\n",
    "office_31_training_labels = office_31_train_dataset.classes\n",
    "print(office_31_train_dataset.classes[:])"
   ]
  },
  {
   "cell_type": "code",
   "execution_count": null,
   "metadata": {},
   "outputs": [
    {
     "name": "stdout",
     "output_type": "stream",
     "text": [
      "[0, 1, 2, 3, 4, 5, 6, 7, 8, 9, 10, 11, 12, 13, 14, 15, 16, 17, 18, 19]\n"
     ]
    }
   ],
   "source": [
    "selected_index = [ office_31_train_dataset.class_to_idx[i] for i in office_31_train_dataset.classes[:20]]\n",
    "print(selected_index)"
   ]
  },
  {
   "cell_type": "code",
   "execution_count": null,
   "metadata": {},
   "outputs": [
    {
     "name": "stdout",
     "output_type": "stream",
     "text": [
      "20\n",
      "10\n"
     ]
    }
   ],
   "source": [
    "trainset_1 = torch.utils.data.Subset(office_31_train_dataset, selected_index)\n",
    "train_loader = torch.utils.data.DataLoader(trainset_1, batch_size=2, shuffle= False, num_workers=1, pin_memory=True,sampler=None)\n",
    "print(len(trainset_1))\n",
    "print(len(train_loader))"
   ]
  },
  {
   "cell_type": "markdown",
   "metadata": {},
   "source": [
    "## Checking the duplicate classes between the imagenet of 1000 classes and office31"
   ]
  },
  {
   "cell_type": "code",
   "execution_count": null,
   "metadata": {},
   "outputs": [],
   "source": [
    "office_31_training_labels = [word.lower().replace(\"_\", \" \") for word in office_31_training_labels]"
   ]
  },
  {
   "cell_type": "code",
   "execution_count": null,
   "metadata": {},
   "outputs": [],
   "source": [
    "imagenet_label_list = [word.lower().replace(\"_\", \" \") for word in imagenet_label_list[2]]"
   ]
  },
  {
   "cell_type": "markdown",
   "metadata": {},
   "source": [
    "### Method 1: Exact string match between two datasets classes"
   ]
  },
  {
   "cell_type": "code",
   "execution_count": null,
   "metadata": {},
   "outputs": [],
   "source": [
    "masked_list1 = set(office_31_training_labels).intersection(set(imagenet_label_list))"
   ]
  },
  {
   "cell_type": "markdown",
   "metadata": {},
   "source": [
    "### Method 2 Similarity string matching between two datasets classes: To remove any possible similar strings in both set of classes"
   ]
  },
  {
   "cell_type": "code",
   "execution_count": null,
   "metadata": {},
   "outputs": [],
   "source": [
    "import textdistance"
   ]
  },
  {
   "cell_type": "code",
   "execution_count": null,
   "metadata": {},
   "outputs": [],
   "source": [
    "def find_similars_dict(source_labels, target_labels, threshold = 1.0):\n",
    "    similarity_dict =  {}\n",
    "    for x in source_labels:\n",
    "        similarity_dict[x] = []\n",
    "        for y in target_labels:\n",
    "            similarity_score = textdistance.smith_waterman.normalized_similarity(x,y)\n",
    "            if similarity_score >= threshold:\n",
    "                similarity_dict[x].append([y,similarity_score])\n",
    "    for each_word_list in similarity_dict:\n",
    "        similarity_dict[each_word_list].sort(key=lambda x: x[1], reverse = True)\n",
    "    # levenshtein damerau_levenshtein gotoh smith_waterman\n",
    "    return similarity_dict"
   ]
  },
  {
   "cell_type": "code",
   "execution_count": null,
   "metadata": {},
   "outputs": [],
   "source": [
    "similarity_dict = find_similars_dict(office_31_training_labels,imagenet_label_list,threshold = 1)"
   ]
  },
  {
   "cell_type": "code",
   "execution_count": null,
   "metadata": {},
   "outputs": [
    {
     "data": {
      "text/plain": [
       "{'back pack': [],\n",
       " 'bike': [['mountain bike', 1.0]],\n",
       " 'bike helmet': [],\n",
       " 'bookcase': [['bookcase', 1.0]],\n",
       " 'bottle': [['beer bottle', 1.0],\n",
       "  ['pop bottle', 1.0],\n",
       "  ['wine bottle', 1.0],\n",
       "  ['pill bottle', 1.0],\n",
       "  ['water bottle', 1.0]],\n",
       " 'calculator': [],\n",
       " 'desk chair': [],\n",
       " 'desk lamp': [],\n",
       " 'desktop computer': [['desktop computer', 1.0]],\n",
       " 'file cabinet': [],\n",
       " 'headphones': [],\n",
       " 'keyboard': [['computer keyboard', 1.0], ['typewriter keyboard', 1.0]],\n",
       " 'laptop computer': [],\n",
       " 'letter tray': [['tray', 1.0]],\n",
       " 'mobile phone': [],\n",
       " 'monitor': [['monitor', 1.0]],\n",
       " 'mouse': [['mouse', 1.0]],\n",
       " 'mug': [['coffee mug', 1.0]],\n",
       " 'paper notebook': [['notebook', 1.0]],\n",
       " 'pen': [['fountain pen', 1.0]],\n",
       " 'phone': [['microphone', 1.0],\n",
       "  ['pay-phone', 1.0],\n",
       "  ['cellular telephone', 1.0],\n",
       "  ['dial telephone', 1.0]],\n",
       " 'printer': [['printer', 1.0]],\n",
       " 'projector': [['projector', 1.0]],\n",
       " 'punchers': [],\n",
       " 'ring binder': [['binder', 1.0]],\n",
       " 'ruler': [],\n",
       " 'scissors': [],\n",
       " 'speaker': [['loudspeaker', 1.0]],\n",
       " 'stapler': [],\n",
       " 'tape dispenser': [],\n",
       " 'trash can': []}"
      ]
     },
     "execution_count": 22,
     "metadata": {},
     "output_type": "execute_result"
    }
   ],
   "source": [
    "similarity_dict"
   ]
  },
  {
   "cell_type": "code",
   "execution_count": null,
   "metadata": {},
   "outputs": [
    {
     "name": "stdout",
     "output_type": "stream",
     "text": [
      "{'fountain pen', 'loudspeaker', 'tray', 'dial telephone', 'mountain bike', 'beer bottle', 'desktop computer', 'coffee mug', 'typewriter keyboard', 'monitor', 'water bottle', 'pay-phone', 'pop bottle', 'printer', 'pill bottle', 'binder', 'bookcase', 'projector', 'notebook', 'wine bottle', 'microphone', 'cellular telephone', 'computer keyboard', 'mouse'}\n"
     ]
    }
   ],
   "source": [
    "masked_list2 = set()\n",
    "for key in similarity_dict:\n",
    "    for values in similarity_dict[key]:\n",
    "        masked_list2.add(values[0])\n",
    "print(masked_list2)"
   ]
  },
  {
   "cell_type": "markdown",
   "metadata": {},
   "source": [
    "## Save them into files:"
   ]
  },
  {
   "cell_type": "code",
   "execution_count": null,
   "metadata": {},
   "outputs": [
    {
     "name": "stdout",
     "output_type": "stream",
     "text": [
      "['desktop_computer', 'printer', 'monitor', 'bookcase', 'mouse', 'projector']\n",
      "['fountain_pen', 'loudspeaker', 'tray', 'dial_telephone', 'mountain_bike', 'beer_bottle', 'desktop_computer', 'coffee_mug', 'typewriter_keyboard', 'monitor', 'water_bottle', 'pay-phone', 'pop_bottle', 'printer', 'pill_bottle', 'binder', 'bookcase', 'projector', 'notebook', 'wine_bottle', 'microphone', 'cellular_telephone', 'computer_keyboard', 'mouse']\n"
     ]
    }
   ],
   "source": [
    "masked_list1 = [x.replace(\" \", \"_\") for x in masked_list1]\n",
    "masked_list2 = [x.replace(\" \", \"_\") for x in masked_list2]\n",
    "print(masked_list1)\n",
    "print(masked_list2)"
   ]
  },
  {
   "cell_type": "code",
   "execution_count": null,
   "metadata": {},
   "outputs": [],
   "source": [
    "masked_list1_df = pd.DataFrame([(imagenet_label_list_dict[i], i) for i in masked_list1])\n",
    "masked_list2_df = pd.DataFrame([(imagenet_label_list_dict[i], i) for i in masked_list2])\n",
    "masked_list1_df.to_csv('masked_office31_imagenetlabel1_df.csv',index = False, header = False)\n",
    "masked_list2_df.to_csv('masked_office31_imagenetlabel2_df.csv',index = False, header = False)\n"
   ]
  },
  {
   "cell_type": "markdown",
   "metadata": {},
   "source": [
    "# Open the officehome dataset and extract the labels "
   ]
  },
  {
   "cell_type": "code",
   "execution_count": 14,
   "metadata": {},
   "outputs": [
    {
     "ename": "FileNotFoundError",
     "evalue": "[Errno 2] No such file or directory: '/home/junzhin/Project/datasets/OfficeHomeDataset_10072016'",
     "output_type": "error",
     "traceback": [
      "\u001b[0;31m---------------------------------------------------------------------------\u001b[0m",
      "\u001b[0;31mFileNotFoundError\u001b[0m                         Traceback (most recent call last)",
      "\u001b[0;32m<ipython-input-14-1799dfa6b11b>\u001b[0m in \u001b[0;36m<module>\u001b[0;34m\u001b[0m\n\u001b[1;32m      1\u001b[0m \u001b[0mofficehome_path\u001b[0m \u001b[0;34m=\u001b[0m\u001b[0;34mr\"/home/junzhin/Project/datasets/OfficeHomeDataset_10072016\"\u001b[0m\u001b[0;34m\u001b[0m\u001b[0;34m\u001b[0m\u001b[0m\n\u001b[0;32m----> 2\u001b[0;31m \u001b[0mofficehome_dir\u001b[0m \u001b[0;34m=\u001b[0m \u001b[0mos\u001b[0m\u001b[0;34m.\u001b[0m\u001b[0mlistdir\u001b[0m\u001b[0;34m(\u001b[0m\u001b[0mofficehome_path\u001b[0m\u001b[0;34m)\u001b[0m\u001b[0;34m\u001b[0m\u001b[0;34m\u001b[0m\u001b[0m\n\u001b[0m\u001b[1;32m      3\u001b[0m \u001b[0mart_file_path\u001b[0m \u001b[0;34m=\u001b[0m \u001b[0mos\u001b[0m\u001b[0;34m.\u001b[0m\u001b[0mpath\u001b[0m\u001b[0;34m.\u001b[0m\u001b[0mjoin\u001b[0m\u001b[0;34m(\u001b[0m\u001b[0mofficehome_path\u001b[0m\u001b[0;34m,\u001b[0m \u001b[0mofficehome_dir\u001b[0m\u001b[0;34m[\u001b[0m\u001b[0;36m0\u001b[0m\u001b[0;34m]\u001b[0m\u001b[0;34m)\u001b[0m\u001b[0;34m\u001b[0m\u001b[0;34m\u001b[0m\u001b[0m\n\u001b[1;32m      4\u001b[0m \u001b[0mclipart_file_path\u001b[0m \u001b[0;34m=\u001b[0m \u001b[0mos\u001b[0m\u001b[0;34m.\u001b[0m\u001b[0mpath\u001b[0m\u001b[0;34m.\u001b[0m\u001b[0mjoin\u001b[0m\u001b[0;34m(\u001b[0m\u001b[0mofficehome_path\u001b[0m\u001b[0;34m,\u001b[0m \u001b[0mofficehome_dir\u001b[0m\u001b[0;34m[\u001b[0m\u001b[0;36m1\u001b[0m\u001b[0;34m]\u001b[0m\u001b[0;34m)\u001b[0m\u001b[0;34m\u001b[0m\u001b[0;34m\u001b[0m\u001b[0m\n\u001b[1;32m      5\u001b[0m \u001b[0mproduct_file_path\u001b[0m \u001b[0;34m=\u001b[0m \u001b[0mos\u001b[0m\u001b[0;34m.\u001b[0m\u001b[0mpath\u001b[0m\u001b[0;34m.\u001b[0m\u001b[0mjoin\u001b[0m\u001b[0;34m(\u001b[0m\u001b[0mofficehome_path\u001b[0m\u001b[0;34m,\u001b[0m \u001b[0mofficehome_dir\u001b[0m\u001b[0;34m[\u001b[0m\u001b[0;36m4\u001b[0m\u001b[0;34m]\u001b[0m\u001b[0;34m)\u001b[0m\u001b[0;34m\u001b[0m\u001b[0;34m\u001b[0m\u001b[0m\n",
      "\u001b[0;31mFileNotFoundError\u001b[0m: [Errno 2] No such file or directory: '/home/junzhin/Project/datasets/OfficeHomeDataset_10072016'"
     ]
    }
   ],
   "source": [
    "officehome_path =r\"/home/junzhin/Project/datasets/OfficeHomeDataset_10072016\"\n",
    "officehome_dir = os.listdir(officehome_path)\n",
    "art_file_path = os.path.join(officehome_path, officehome_dir[0])\n",
    "clipart_file_path = os.path.join(officehome_path, officehome_dir[1])\n",
    "product_file_path = os.path.join(officehome_path, officehome_dir[4])\n",
    "world_file_path = os.path.join(officehome_path, officehome_dir[5])"
   ]
  },
  {
   "cell_type": "code",
   "execution_count": null,
   "metadata": {},
   "outputs": [
    {
     "name": "stdout",
     "output_type": "stream",
     "text": [
      "/home/junzhin/Project/datasets/OfficeHomeDataset_10072016\n",
      "['Art', 'Clipart', 'ImageInfo.csv', 'imagelist.txt', 'Product', 'Real World']\n"
     ]
    }
   ],
   "source": [
    "print(officehome_path)\n",
    "print(officehome_dir)"
   ]
  },
  {
   "cell_type": "code",
   "execution_count": null,
   "metadata": {},
   "outputs": [
    {
     "name": "stdout",
     "output_type": "stream",
     "text": [
      "True\n",
      "65\n"
     ]
    }
   ],
   "source": [
    "art =  os.listdir(art_file_path)\n",
    "clipart =  os.listdir(clipart_file_path)\n",
    "product =  os.listdir(product_file_path)\n",
    "world =  os.listdir(world_file_path)\n",
    "print(set(art) == set(clipart) == set(product) == set(world))\n",
    "print(len(set(art)))"
   ]
  },
  {
   "cell_type": "markdown",
   "metadata": {},
   "source": [
    "## Choosing one of the domains for labels extractions:\n"
   ]
  },
  {
   "cell_type": "code",
   "execution_count": 16,
   "metadata": {},
   "outputs": [
    {
     "ename": "NameError",
     "evalue": "name 'art_file_path' is not defined",
     "output_type": "error",
     "traceback": [
      "\u001b[0;31m---------------------------------------------------------------------------\u001b[0m",
      "\u001b[0;31mNameError\u001b[0m                                 Traceback (most recent call last)",
      "\u001b[0;32m<ipython-input-16-42904ecb0c34>\u001b[0m in \u001b[0;36m<module>\u001b[0;34m\u001b[0m\n\u001b[0;32m----> 1\u001b[0;31m \u001b[0moffice_home_train_dataset\u001b[0m \u001b[0;34m=\u001b[0m \u001b[0mdatasets\u001b[0m\u001b[0;34m.\u001b[0m\u001b[0mImageFolder\u001b[0m\u001b[0;34m(\u001b[0m\u001b[0mart_file_path\u001b[0m\u001b[0;34m)\u001b[0m\u001b[0;34m\u001b[0m\u001b[0;34m\u001b[0m\u001b[0m\n\u001b[0m\u001b[1;32m      2\u001b[0m \u001b[0moffice_home_train_dataset\u001b[0m\u001b[0;34m.\u001b[0m\u001b[0mclasses\u001b[0m\u001b[0;34m\u001b[0m\u001b[0;34m\u001b[0m\u001b[0m\n\u001b[1;32m      3\u001b[0m \u001b[0moffice_home_label_list\u001b[0m \u001b[0;34m=\u001b[0m \u001b[0;34m[\u001b[0m\u001b[0mi\u001b[0m\u001b[0;34m.\u001b[0m\u001b[0mlower\u001b[0m\u001b[0;34m(\u001b[0m\u001b[0;34m)\u001b[0m\u001b[0;34m.\u001b[0m\u001b[0mreplace\u001b[0m\u001b[0;34m(\u001b[0m\u001b[0;34m\"_\"\u001b[0m\u001b[0;34m,\u001b[0m \u001b[0;34m\" \"\u001b[0m\u001b[0;34m)\u001b[0m \u001b[0;32mfor\u001b[0m \u001b[0mi\u001b[0m \u001b[0;32min\u001b[0m \u001b[0moffice_home_train_dataset\u001b[0m\u001b[0;34m.\u001b[0m\u001b[0mclasses\u001b[0m\u001b[0;34m]\u001b[0m\u001b[0;34m\u001b[0m\u001b[0;34m\u001b[0m\u001b[0m\n\u001b[1;32m      4\u001b[0m \u001b[0mprint\u001b[0m\u001b[0;34m(\u001b[0m\u001b[0moffice_home_train_dataset\u001b[0m\u001b[0;34m.\u001b[0m\u001b[0mclasses\u001b[0m\u001b[0;34m)\u001b[0m\u001b[0;34m\u001b[0m\u001b[0;34m\u001b[0m\u001b[0m\n\u001b[1;32m      5\u001b[0m \u001b[0mprint\u001b[0m\u001b[0;34m(\u001b[0m\u001b[0mlen\u001b[0m\u001b[0;34m(\u001b[0m\u001b[0moffice_home_train_dataset\u001b[0m\u001b[0;34m.\u001b[0m\u001b[0mclasses\u001b[0m\u001b[0;34m)\u001b[0m\u001b[0;34m)\u001b[0m\u001b[0;34m\u001b[0m\u001b[0;34m\u001b[0m\u001b[0m\n",
      "\u001b[0;31mNameError\u001b[0m: name 'art_file_path' is not defined"
     ]
    }
   ],
   "source": [
    "office_home_train_dataset = datasets.ImageFolder(art_file_path)\n",
    "office_home_train_dataset.classes\n",
    "office_home_label_list = [i.lower().replace(\"_\", \" \") for i in office_home_train_dataset.classes]\n",
    "print(office_home_train_dataset.classes)\n",
    "print(len(office_home_train_dataset.classes))"
   ]
  },
  {
   "cell_type": "code",
   "execution_count": null,
   "metadata": {},
   "outputs": [
    {
     "data": {
      "text/plain": [
       "{'backpack',\n",
       " 'bucket',\n",
       " 'hammer',\n",
       " 'laptop',\n",
       " 'monitor',\n",
       " 'mouse',\n",
       " 'notebook',\n",
       " 'printer',\n",
       " 'radio',\n",
       " 'refrigerator',\n",
       " 'screwdriver'}"
      ]
     },
     "execution_count": 30,
     "metadata": {},
     "output_type": "execute_result"
    }
   ],
   "source": [
    "masked_list1 = set(office_home_label_list).intersection(set(imagenet_label_list))\n",
    "masked_list1"
   ]
  },
  {
   "cell_type": "code",
   "execution_count": 17,
   "metadata": {},
   "outputs": [
    {
     "ename": "NameError",
     "evalue": "name 'find_similars_dict' is not defined",
     "output_type": "error",
     "traceback": [
      "\u001b[0;31m---------------------------------------------------------------------------\u001b[0m",
      "\u001b[0;31mNameError\u001b[0m                                 Traceback (most recent call last)",
      "\u001b[0;32m<ipython-input-17-e8b90e8cc95d>\u001b[0m in \u001b[0;36m<module>\u001b[0;34m\u001b[0m\n\u001b[0;32m----> 1\u001b[0;31m \u001b[0msimilarity_dict\u001b[0m \u001b[0;34m=\u001b[0m \u001b[0mfind_similars_dict\u001b[0m\u001b[0;34m(\u001b[0m\u001b[0moffice_home_label_list\u001b[0m\u001b[0;34m,\u001b[0m \u001b[0mimagenet_label_list\u001b[0m\u001b[0;34m,\u001b[0m\u001b[0mthreshold\u001b[0m \u001b[0;34m=\u001b[0m \u001b[0;36m1\u001b[0m\u001b[0;34m)\u001b[0m\u001b[0;34m\u001b[0m\u001b[0;34m\u001b[0m\u001b[0m\n\u001b[0m",
      "\u001b[0;31mNameError\u001b[0m: name 'find_similars_dict' is not defined"
     ]
    }
   ],
   "source": [
    "similarity_dict = find_similars_dict(office_home_label_list, imagenet_label_list,threshold = 1)"
   ]
  },
  {
   "cell_type": "code",
   "execution_count": 18,
   "metadata": {},
   "outputs": [
    {
     "ename": "NameError",
     "evalue": "name 'similarity_dict' is not defined",
     "output_type": "error",
     "traceback": [
      "\u001b[0;31m---------------------------------------------------------------------------\u001b[0m",
      "\u001b[0;31mNameError\u001b[0m                                 Traceback (most recent call last)",
      "\u001b[0;32m<ipython-input-18-de1200124763>\u001b[0m in \u001b[0;36m<module>\u001b[0;34m\u001b[0m\n\u001b[0;32m----> 1\u001b[0;31m \u001b[0msimilarity_dict\u001b[0m\u001b[0;34m\u001b[0m\u001b[0;34m\u001b[0m\u001b[0m\n\u001b[0m",
      "\u001b[0;31mNameError\u001b[0m: name 'similarity_dict' is not defined"
     ]
    }
   ],
   "source": [
    "similarity_dict"
   ]
  },
  {
   "cell_type": "code",
   "execution_count": 19,
   "metadata": {},
   "outputs": [
    {
     "ename": "NameError",
     "evalue": "name 'similarity_dict' is not defined",
     "output_type": "error",
     "traceback": [
      "\u001b[0;31m---------------------------------------------------------------------------\u001b[0m",
      "\u001b[0;31mNameError\u001b[0m                                 Traceback (most recent call last)",
      "\u001b[0;32m<ipython-input-19-53ac417b2917>\u001b[0m in \u001b[0;36m<module>\u001b[0;34m\u001b[0m\n\u001b[1;32m      1\u001b[0m \u001b[0mmasked_list2\u001b[0m \u001b[0;34m=\u001b[0m \u001b[0mset\u001b[0m\u001b[0;34m(\u001b[0m\u001b[0;34m)\u001b[0m\u001b[0;34m\u001b[0m\u001b[0;34m\u001b[0m\u001b[0m\n\u001b[0;32m----> 2\u001b[0;31m \u001b[0;32mfor\u001b[0m \u001b[0mkey\u001b[0m \u001b[0;32min\u001b[0m \u001b[0msimilarity_dict\u001b[0m\u001b[0;34m:\u001b[0m\u001b[0;34m\u001b[0m\u001b[0;34m\u001b[0m\u001b[0m\n\u001b[0m\u001b[1;32m      3\u001b[0m     \u001b[0;32mfor\u001b[0m \u001b[0mvalues\u001b[0m \u001b[0;32min\u001b[0m \u001b[0msimilarity_dict\u001b[0m\u001b[0;34m[\u001b[0m\u001b[0mkey\u001b[0m\u001b[0;34m]\u001b[0m\u001b[0;34m:\u001b[0m\u001b[0;34m\u001b[0m\u001b[0;34m\u001b[0m\u001b[0m\n\u001b[1;32m      4\u001b[0m         \u001b[0mmasked_list2\u001b[0m\u001b[0;34m.\u001b[0m\u001b[0madd\u001b[0m\u001b[0;34m(\u001b[0m\u001b[0mvalues\u001b[0m\u001b[0;34m[\u001b[0m\u001b[0;36m0\u001b[0m\u001b[0;34m]\u001b[0m\u001b[0;34m)\u001b[0m\u001b[0;34m\u001b[0m\u001b[0;34m\u001b[0m\u001b[0m\n\u001b[1;32m      5\u001b[0m \u001b[0mprint\u001b[0m\u001b[0;34m(\u001b[0m\u001b[0mmasked_list2\u001b[0m\u001b[0;34m)\u001b[0m\u001b[0;34m\u001b[0m\u001b[0;34m\u001b[0m\u001b[0m\n",
      "\u001b[0;31mNameError\u001b[0m: name 'similarity_dict' is not defined"
     ]
    }
   ],
   "source": [
    "masked_list2 = set()\n",
    "for key in similarity_dict:\n",
    "    for values in similarity_dict[key]:\n",
    "        masked_list2.add(values[0])\n",
    "print(masked_list2)"
   ]
  },
  {
   "cell_type": "markdown",
   "metadata": {},
   "source": [
    "## Save them into files"
   ]
  },
  {
   "cell_type": "code",
   "execution_count": 20,
   "metadata": {},
   "outputs": [
    {
     "ename": "NameError",
     "evalue": "name 'masked_list1' is not defined",
     "output_type": "error",
     "traceback": [
      "\u001b[0;31m---------------------------------------------------------------------------\u001b[0m",
      "\u001b[0;31mNameError\u001b[0m                                 Traceback (most recent call last)",
      "\u001b[0;32m<ipython-input-20-ede01f251f8a>\u001b[0m in \u001b[0;36m<module>\u001b[0;34m\u001b[0m\n\u001b[0;32m----> 1\u001b[0;31m \u001b[0mmasked_list1\u001b[0m \u001b[0;34m=\u001b[0m \u001b[0;34m[\u001b[0m\u001b[0mx\u001b[0m\u001b[0;34m.\u001b[0m\u001b[0mreplace\u001b[0m\u001b[0;34m(\u001b[0m\u001b[0;34m\" \"\u001b[0m\u001b[0;34m,\u001b[0m \u001b[0;34m\"_\"\u001b[0m\u001b[0;34m)\u001b[0m \u001b[0;32mfor\u001b[0m \u001b[0mx\u001b[0m \u001b[0;32min\u001b[0m \u001b[0mmasked_list1\u001b[0m\u001b[0;34m]\u001b[0m\u001b[0;34m\u001b[0m\u001b[0;34m\u001b[0m\u001b[0m\n\u001b[0m\u001b[1;32m      2\u001b[0m \u001b[0mmasked_list2\u001b[0m \u001b[0;34m=\u001b[0m \u001b[0;34m[\u001b[0m\u001b[0mx\u001b[0m\u001b[0;34m.\u001b[0m\u001b[0mreplace\u001b[0m\u001b[0;34m(\u001b[0m\u001b[0;34m\" \"\u001b[0m\u001b[0;34m,\u001b[0m \u001b[0;34m\"_\"\u001b[0m\u001b[0;34m)\u001b[0m \u001b[0;32mfor\u001b[0m \u001b[0mx\u001b[0m \u001b[0;32min\u001b[0m \u001b[0mmasked_list2\u001b[0m\u001b[0;34m]\u001b[0m\u001b[0;34m\u001b[0m\u001b[0;34m\u001b[0m\u001b[0m\n\u001b[1;32m      3\u001b[0m \u001b[0mprint\u001b[0m\u001b[0;34m(\u001b[0m\u001b[0mmasked_list1\u001b[0m\u001b[0;34m)\u001b[0m\u001b[0;34m\u001b[0m\u001b[0;34m\u001b[0m\u001b[0m\n\u001b[1;32m      4\u001b[0m \u001b[0mprint\u001b[0m\u001b[0;34m(\u001b[0m\u001b[0mmasked_list2\u001b[0m\u001b[0;34m)\u001b[0m\u001b[0;34m\u001b[0m\u001b[0;34m\u001b[0m\u001b[0m\n",
      "\u001b[0;31mNameError\u001b[0m: name 'masked_list1' is not defined"
     ]
    }
   ],
   "source": [
    "masked_list1 = [x.replace(\" \", \"_\") for x in masked_list1]\n",
    "masked_list2 = [x.replace(\" \", \"_\") for x in masked_list2]\n",
    "print(masked_list1)\n",
    "print(masked_list2)"
   ]
  },
  {
   "cell_type": "code",
   "execution_count": 21,
   "metadata": {},
   "outputs": [
    {
     "ename": "NameError",
     "evalue": "name 'masked_list1' is not defined",
     "output_type": "error",
     "traceback": [
      "\u001b[0;31m---------------------------------------------------------------------------\u001b[0m",
      "\u001b[0;31mNameError\u001b[0m                                 Traceback (most recent call last)",
      "\u001b[0;32m<ipython-input-21-9c8fbb03c4c8>\u001b[0m in \u001b[0;36m<module>\u001b[0;34m\u001b[0m\n\u001b[0;32m----> 1\u001b[0;31m \u001b[0mmasked_list1_df\u001b[0m \u001b[0;34m=\u001b[0m \u001b[0mpd\u001b[0m\u001b[0;34m.\u001b[0m\u001b[0mDataFrame\u001b[0m\u001b[0;34m(\u001b[0m\u001b[0;34m[\u001b[0m\u001b[0;34m(\u001b[0m\u001b[0mimagenet_label_list_dict\u001b[0m\u001b[0;34m[\u001b[0m\u001b[0mi\u001b[0m\u001b[0;34m]\u001b[0m\u001b[0;34m,\u001b[0m \u001b[0mi\u001b[0m\u001b[0;34m)\u001b[0m \u001b[0;32mfor\u001b[0m \u001b[0mi\u001b[0m \u001b[0;32min\u001b[0m \u001b[0mmasked_list1\u001b[0m\u001b[0;34m]\u001b[0m\u001b[0;34m)\u001b[0m\u001b[0;34m\u001b[0m\u001b[0;34m\u001b[0m\u001b[0m\n\u001b[0m\u001b[1;32m      2\u001b[0m \u001b[0mmasked_list2_df\u001b[0m \u001b[0;34m=\u001b[0m \u001b[0mpd\u001b[0m\u001b[0;34m.\u001b[0m\u001b[0mDataFrame\u001b[0m\u001b[0;34m(\u001b[0m\u001b[0;34m[\u001b[0m\u001b[0;34m(\u001b[0m\u001b[0mimagenet_label_list_dict\u001b[0m\u001b[0;34m[\u001b[0m\u001b[0mi\u001b[0m\u001b[0;34m]\u001b[0m\u001b[0;34m,\u001b[0m \u001b[0mi\u001b[0m\u001b[0;34m)\u001b[0m \u001b[0;32mfor\u001b[0m \u001b[0mi\u001b[0m \u001b[0;32min\u001b[0m \u001b[0mmasked_list2\u001b[0m\u001b[0;34m]\u001b[0m\u001b[0;34m)\u001b[0m\u001b[0;34m\u001b[0m\u001b[0;34m\u001b[0m\u001b[0m\n\u001b[1;32m      3\u001b[0m \u001b[0mmasked_list1_df\u001b[0m\u001b[0;34m.\u001b[0m\u001b[0mto_csv\u001b[0m\u001b[0;34m(\u001b[0m\u001b[0;34m'masked_officehome_imagenetlabel1_df.csv'\u001b[0m\u001b[0;34m,\u001b[0m\u001b[0mindex\u001b[0m \u001b[0;34m=\u001b[0m \u001b[0;32mFalse\u001b[0m\u001b[0;34m,\u001b[0m \u001b[0mheader\u001b[0m \u001b[0;34m=\u001b[0m \u001b[0;32mFalse\u001b[0m\u001b[0;34m)\u001b[0m\u001b[0;34m\u001b[0m\u001b[0;34m\u001b[0m\u001b[0m\n\u001b[1;32m      4\u001b[0m \u001b[0mmasked_list2_df\u001b[0m\u001b[0;34m.\u001b[0m\u001b[0mto_csv\u001b[0m\u001b[0;34m(\u001b[0m\u001b[0;34m'masked_officehome_imagenetlabel2_df.csv'\u001b[0m\u001b[0;34m,\u001b[0m\u001b[0mindex\u001b[0m \u001b[0;34m=\u001b[0m \u001b[0;32mFalse\u001b[0m\u001b[0;34m,\u001b[0m \u001b[0mheader\u001b[0m \u001b[0;34m=\u001b[0m \u001b[0;32mFalse\u001b[0m\u001b[0;34m)\u001b[0m\u001b[0;34m\u001b[0m\u001b[0;34m\u001b[0m\u001b[0m\n",
      "\u001b[0;31mNameError\u001b[0m: name 'masked_list1' is not defined"
     ]
    }
   ],
   "source": [
    "masked_list1_df = pd.DataFrame([(imagenet_label_list_dict[i], i) for i in masked_list1])\n",
    "masked_list2_df = pd.DataFrame([(imagenet_label_list_dict[i], i) for i in masked_list2])\n",
    "masked_list1_df.to_csv('masked_officehome_imagenetlabel1_df.csv',index = False, header = False)\n",
    "masked_list2_df.to_csv('masked_officehome_imagenetlabel2_df.csv',index = False, header = False)"
   ]
  },
  {
   "cell_type": "code",
   "execution_count": 48,
   "metadata": {},
   "outputs": [],
   "source": [
    "import  matplotlib.pyplot as plt\n",
    "def dataview(number_of_samples, imageset, classename,imagenet_label_list_dict):\n",
    "    target_index = imageset.class_to_idx[imagenet_label_list_dict[classename]]\n",
    "    for index in range(len(imageset)):\n",
    "        if imageset.imgs[index][1] == target_index:\n",
    "            break\n",
    "           \n",
    "    for i in range(number_of_samples):\n",
    "        plt.figure()\n",
    "        plt.imshow(imageset[index + i][0])\n",
    "#         print(imageset.imgs[index + i])\n",
    "    return "
   ]
  },
  {
   "cell_type": "markdown",
   "metadata": {},
   "source": []
  },
  {
   "cell_type": "code",
   "execution_count": 50,
   "metadata": {},
   "outputs": [
    {
     "name": "stdout",
     "output_type": "stream",
     "text": [
      "('/data/gpfs/datasets/Imagenet/train_blurred/n04069434/n04069434_10027.jpg', 759)\n",
      "('/data/gpfs/datasets/Imagenet/train_blurred/n04069434/n04069434_10048.jpg', 759)\n",
      "('/data/gpfs/datasets/Imagenet/train_blurred/n04069434/n04069434_10064.jpg', 759)\n",
      "('/data/gpfs/datasets/Imagenet/train_blurred/n04069434/n04069434_10085.jpg', 759)\n",
      "('/data/gpfs/datasets/Imagenet/train_blurred/n04069434/n04069434_10087.jpg', 759)\n"
     ]
    }
   ],
   "source": [
    "dataview(5,image_net_train_dataset,\"reflex_camera\",imagenet_label_list_dict)"
   ]
  },
  {
   "cell_type": "markdown",
   "metadata": {},
   "source": [
    "## Experiment of choosing the subset of the dataset"
   ]
  },
  {
   "cell_type": "code",
   "execution_count": 24,
   "metadata": {},
   "outputs": [
    {
     "name": "stdout",
     "output_type": "stream",
     "text": [
      "Dataset ImageFolder\n",
      "    Number of datapoints: 1281066\n",
      "    Root location: /data/gpfs/datasets/Imagenet/train_blurred\n",
      "Dataset ImageFolder\n",
      "    Number of datapoints: 49997\n",
      "    Root location: /data/gpfs/datasets/Imagenet/val_blurred\n"
     ]
    }
   ],
   "source": [
    "image_net_train_dataset = datasets.ImageFolder(\n",
    "        imagenet_training_filePath)\n",
    "print(image_net_train_dataset)\n",
    "\n",
    "\n",
    "\n",
    "image_net_valid_dataset = datasets.ImageFolder(\n",
    "        imagenet_valid_filePath)\n",
    "print(image_net_valid_dataset)\n"
   ]
  },
  {
   "cell_type": "code",
   "execution_count": 25,
   "metadata": {},
   "outputs": [],
   "source": [
    "masked_label_list_office31 = pd.read_csv(r\"/home/junzhin/Project/Summer_project/code/version1.0/masked_office31_imagenetlabel2_df.csv\", header = None)\n",
    "masked_label_list_officehome = pd.read_csv(r\"/home/junzhin/Project/Summer_project/code/version1.0/masked_officehome_imagenetlabel2_df.csv\", header = None)"
   ]
  },
  {
   "cell_type": "code",
   "execution_count": 26,
   "metadata": {},
   "outputs": [
    {
     "name": "stdout",
     "output_type": "stream",
     "text": [
      "976\n",
      "959\n"
     ]
    }
   ],
   "source": [
    "chosen_index_office31 = [image_net_train_dataset.class_to_idx[i] for i in image_net_train_dataset.classes if i not in list(masked_label_list_office31[0])]\n",
    "print(len(chosen_index_office31))\n",
    "chosen_index_officehome = [image_net_train_dataset.class_to_idx[i]  for i in image_net_train_dataset.classes if i not in list(masked_label_list_officehome[0])]\n",
    "print(len(chosen_index_officehome))"
   ]
  },
  {
   "cell_type": "code",
   "execution_count": 27,
   "metadata": {},
   "outputs": [],
   "source": [
    "masked_image_net_train_dataset_office31 = torch.utils.data.Subset(image_net_train_dataset, chosen_index_office31)\n",
    "masked_image_net_train_dataset_officehome = torch.utils.data.Subset(image_net_train_dataset, chosen_index_officehome)"
   ]
  },
  {
   "cell_type": "code",
   "execution_count": 28,
   "metadata": {},
   "outputs": [
    {
     "name": "stdout",
     "output_type": "stream",
     "text": [
      "976\n"
     ]
    }
   ],
   "source": [
    "print(len(masked_image_net_train_dataset_office31))"
   ]
  },
  {
   "cell_type": "markdown",
   "metadata": {},
   "source": [
    "## Random selection after masking the labels in the imagenet"
   ]
  },
  {
   "cell_type": "code",
   "execution_count": 29,
   "metadata": {},
   "outputs": [],
   "source": [
    "train_dataset_initial = datasets.ImageFolder(r\"/data/gpfs/datasets/Imagenet/train_blurred\")"
   ]
  },
  {
   "cell_type": "code",
   "execution_count": 30,
   "metadata": {},
   "outputs": [],
   "source": [
    "filepath =  r'/home/junzhin/Project/Summer_project/code/version1.0/masked_office31_imagenetlabel2_manual_df.csv'#r'/home/junzhin/Project/Summer_project/code/version1.0/masked_officehome_imagenetlabel2_manual_df.csv'\n",
    "masked_label_list = pd.read_csv(filepath, header = None)\n",
    "masked_label_list.sort_values(0, inplace = True)\n",
    "masked_label_list.drop_duplicates(inplace = True)\n",
    "masked_label_list.reset_index(drop=True, inplace = True)\n",
    "masked_label_list.to_csv(filepath, index = False, header = False)"
   ]
  },
  {
   "cell_type": "code",
   "execution_count": 31,
   "metadata": {},
   "outputs": [
    {
     "name": "stdout",
     "output_type": "stream",
     "text": [
      "958\n",
      "958\n"
     ]
    }
   ],
   "source": [
    "import random\n",
    "# fix the random seed to produce the replicable sampling results\n",
    "random.seed(1000)\n",
    "# select the classes after excluding the masked classes \n",
    "exclude_masked_classes = [one_class for one_class in train_dataset_initial.classes if one_class not in list(masked_label_list[0])]\n",
    "print(len(exclude_masked_classes))\n",
    "random_selected_classes = random.sample(exclude_masked_classes, len(masked_label_list))\n",
    "chosen_classes = [train_dataset_initial.class_to_idx[each] for each in train_dataset_initial.classes if each not in random_selected_classes]\n",
    "print(len(chosen_classes))"
   ]
  },
  {
   "cell_type": "code",
   "execution_count": 32,
   "metadata": {},
   "outputs": [
    {
     "name": "stdout",
     "output_type": "stream",
     "text": [
      "1227158\n"
     ]
    }
   ],
   "source": [
    "chosen_index_train = [index for index in range(len(train_dataset_initial)) if train_dataset_initial.imgs[index][1] in chosen_classes]\n",
    "# chosen_index_valid = [ index for index in range(len(valid_dataset_initial)) if valid_dataset_initial.imgs[index][1] not in chosen_classes]\n",
    "train_dataset = torch.utils.data.Subset(train_dataset_initial, chosen_index_train)\n",
    "# valid_dataset = torch.utils.data.Subset(valid_dataset_initial, chosen_index_valid)\n",
    "print(len(train_dataset))"
   ]
  },
  {
   "cell_type": "code",
   "execution_count": 33,
   "metadata": {},
   "outputs": [
    {
     "name": "stdout",
     "output_type": "stream",
     "text": [
      "{'n01440764': 0, 'n01443537': 1, 'n01484850': 2, 'n01491361': 3, 'n01494475': 4, 'n01496331': 5, 'n01498041': 6, 'n01514668': 7, 'n01514859': 8, 'n01518878': 9, 'n01530575': 10, 'n01531178': 11, 'n01532829': 12, 'n01534433': 13, 'n01537544': 14, 'n01558993': 15, 'n01560419': 16, 'n01580077': 17, 'n01582220': 18, 'n01592084': 19, 'n01601694': 20, 'n01608432': 21, 'n01614925': 22, 'n01616318': 23, 'n01622779': 24, 'n01629819': 25, 'n01630670': 26, 'n01631663': 27, 'n01632458': 28, 'n01632777': 29, 'n01641577': 30, 'n01644373': 31, 'n01644900': 32, 'n01664065': 33, 'n01665541': 34, 'n01667114': 35, 'n01667778': 36, 'n01669191': 37, 'n01675722': 38, 'n01677366': 39, 'n01682714': 40, 'n01685808': 41, 'n01687978': 42, 'n01688243': 43, 'n01689811': 44, 'n01692333': 45, 'n01693334': 46, 'n01694178': 47, 'n01695060': 48, 'n01697457': 49, 'n01698640': 50, 'n01704323': 51, 'n01728572': 52, 'n01728920': 53, 'n01729322': 54, 'n01729977': 55, 'n01734418': 56, 'n01735189': 57, 'n01737021': 58, 'n01739381': 59, 'n01740131': 60, 'n01742172': 61, 'n01744401': 62, 'n01748264': 63, 'n01749939': 64, 'n01751748': 65, 'n01753488': 66, 'n01755581': 67, 'n01756291': 68, 'n01768244': 69, 'n01770081': 70, 'n01770393': 71, 'n01773157': 72, 'n01773549': 73, 'n01773797': 74, 'n01774384': 75, 'n01774750': 76, 'n01775062': 77, 'n01776313': 78, 'n01784675': 79, 'n01795545': 80, 'n01796340': 81, 'n01797886': 82, 'n01798484': 83, 'n01806143': 84, 'n01806567': 85, 'n01807496': 86, 'n01817953': 87, 'n01818515': 88, 'n01819313': 89, 'n01820546': 90, 'n01824575': 91, 'n01828970': 92, 'n01829413': 93, 'n01833805': 94, 'n01843065': 95, 'n01843383': 96, 'n01847000': 97, 'n01855032': 98, 'n01855672': 99, 'n01860187': 100, 'n01871265': 101, 'n01872401': 102, 'n01873310': 103, 'n01877812': 104, 'n01882714': 105, 'n01883070': 106, 'n01910747': 107, 'n01914609': 108, 'n01917289': 109, 'n01924916': 110, 'n01930112': 111, 'n01943899': 112, 'n01944390': 113, 'n01945685': 114, 'n01950731': 115, 'n01955084': 116, 'n01968897': 117, 'n01978287': 118, 'n01978455': 119, 'n01980166': 120, 'n01981276': 121, 'n01983481': 122, 'n01984695': 123, 'n01985128': 124, 'n01986214': 125, 'n01990800': 126, 'n02002556': 127, 'n02002724': 128, 'n02006656': 129, 'n02007558': 130, 'n02009229': 131, 'n02009912': 132, 'n02011460': 133, 'n02012849': 134, 'n02013706': 135, 'n02017213': 136, 'n02018207': 137, 'n02018795': 138, 'n02025239': 139, 'n02027492': 140, 'n02028035': 141, 'n02033041': 142, 'n02037110': 143, 'n02051845': 144, 'n02056570': 145, 'n02058221': 146, 'n02066245': 147, 'n02071294': 148, 'n02074367': 149, 'n02077923': 150, 'n02085620': 151, 'n02085782': 152, 'n02085936': 153, 'n02086079': 154, 'n02086240': 155, 'n02086646': 156, 'n02086910': 157, 'n02087046': 158, 'n02087394': 159, 'n02088094': 160, 'n02088238': 161, 'n02088364': 162, 'n02088466': 163, 'n02088632': 164, 'n02089078': 165, 'n02089867': 166, 'n02089973': 167, 'n02090379': 168, 'n02090622': 169, 'n02090721': 170, 'n02091032': 171, 'n02091134': 172, 'n02091244': 173, 'n02091467': 174, 'n02091635': 175, 'n02091831': 176, 'n02092002': 177, 'n02092339': 178, 'n02093256': 179, 'n02093428': 180, 'n02093647': 181, 'n02093754': 182, 'n02093859': 183, 'n02093991': 184, 'n02094114': 185, 'n02094258': 186, 'n02094433': 187, 'n02095314': 188, 'n02095570': 189, 'n02095889': 190, 'n02096051': 191, 'n02096177': 192, 'n02096294': 193, 'n02096437': 194, 'n02096585': 195, 'n02097047': 196, 'n02097130': 197, 'n02097209': 198, 'n02097298': 199, 'n02097474': 200, 'n02097658': 201, 'n02098105': 202, 'n02098286': 203, 'n02098413': 204, 'n02099267': 205, 'n02099429': 206, 'n02099601': 207, 'n02099712': 208, 'n02099849': 209, 'n02100236': 210, 'n02100583': 211, 'n02100735': 212, 'n02100877': 213, 'n02101006': 214, 'n02101388': 215, 'n02101556': 216, 'n02102040': 217, 'n02102177': 218, 'n02102318': 219, 'n02102480': 220, 'n02102973': 221, 'n02104029': 222, 'n02104365': 223, 'n02105056': 224, 'n02105162': 225, 'n02105251': 226, 'n02105412': 227, 'n02105505': 228, 'n02105641': 229, 'n02105855': 230, 'n02106030': 231, 'n02106166': 232, 'n02106382': 233, 'n02106550': 234, 'n02106662': 235, 'n02107142': 236, 'n02107312': 237, 'n02107574': 238, 'n02107683': 239, 'n02107908': 240, 'n02108000': 241, 'n02108089': 242, 'n02108422': 243, 'n02108551': 244, 'n02108915': 245, 'n02109047': 246, 'n02109525': 247, 'n02109961': 248, 'n02110063': 249, 'n02110185': 250, 'n02110341': 251, 'n02110627': 252, 'n02110806': 253, 'n02110958': 254, 'n02111129': 255, 'n02111277': 256, 'n02111500': 257, 'n02111889': 258, 'n02112018': 259, 'n02112137': 260, 'n02112350': 261, 'n02112706': 262, 'n02113023': 263, 'n02113186': 264, 'n02113624': 265, 'n02113712': 266, 'n02113799': 267, 'n02113978': 268, 'n02114367': 269, 'n02114548': 270, 'n02114712': 271, 'n02114855': 272, 'n02115641': 273, 'n02115913': 274, 'n02116738': 275, 'n02117135': 276, 'n02119022': 277, 'n02119789': 278, 'n02120079': 279, 'n02120505': 280, 'n02123045': 281, 'n02123159': 282, 'n02123394': 283, 'n02123597': 284, 'n02124075': 285, 'n02125311': 286, 'n02127052': 287, 'n02128385': 288, 'n02128757': 289, 'n02128925': 290, 'n02129165': 291, 'n02129604': 292, 'n02130308': 293, 'n02132136': 294, 'n02133161': 295, 'n02134084': 296, 'n02134418': 297, 'n02137549': 298, 'n02138441': 299, 'n02165105': 300, 'n02165456': 301, 'n02167151': 302, 'n02168699': 303, 'n02169497': 304, 'n02172182': 305, 'n02174001': 306, 'n02177972': 307, 'n02190166': 308, 'n02206856': 309, 'n02219486': 310, 'n02226429': 311, 'n02229544': 312, 'n02231487': 313, 'n02233338': 314, 'n02236044': 315, 'n02256656': 316, 'n02259212': 317, 'n02264363': 318, 'n02268443': 319, 'n02268853': 320, 'n02276258': 321, 'n02277742': 322, 'n02279972': 323, 'n02280649': 324, 'n02281406': 325, 'n02281787': 326, 'n02317335': 327, 'n02319095': 328, 'n02321529': 329, 'n02325366': 330, 'n02326432': 331, 'n02328150': 332, 'n02342885': 333, 'n02346627': 334, 'n02356798': 335, 'n02361337': 336, 'n02363005': 337, 'n02364673': 338, 'n02389026': 339, 'n02391049': 340, 'n02395406': 341, 'n02396427': 342, 'n02397096': 343, 'n02398521': 344, 'n02403003': 345, 'n02408429': 346, 'n02410509': 347, 'n02412080': 348, 'n02415577': 349, 'n02417914': 350, 'n02422106': 351, 'n02422699': 352, 'n02423022': 353, 'n02437312': 354, 'n02437616': 355, 'n02441942': 356, 'n02442845': 357, 'n02443114': 358, 'n02443484': 359, 'n02444819': 360, 'n02445715': 361, 'n02447366': 362, 'n02454379': 363, 'n02457408': 364, 'n02480495': 365, 'n02480855': 366, 'n02481823': 367, 'n02483362': 368, 'n02483708': 369, 'n02484975': 370, 'n02486261': 371, 'n02486410': 372, 'n02487347': 373, 'n02488291': 374, 'n02488702': 375, 'n02489166': 376, 'n02490219': 377, 'n02492035': 378, 'n02492660': 379, 'n02493509': 380, 'n02493793': 381, 'n02494079': 382, 'n02497673': 383, 'n02500267': 384, 'n02504013': 385, 'n02504458': 386, 'n02509815': 387, 'n02510455': 388, 'n02514041': 389, 'n02526121': 390, 'n02536864': 391, 'n02606052': 392, 'n02607072': 393, 'n02640242': 394, 'n02641379': 395, 'n02643566': 396, 'n02655020': 397, 'n02666196': 398, 'n02667093': 399, 'n02669723': 400, 'n02672831': 401, 'n02676566': 402, 'n02687172': 403, 'n02690373': 404, 'n02692877': 405, 'n02699494': 406, 'n02701002': 407, 'n02704792': 408, 'n02708093': 409, 'n02727426': 410, 'n02730930': 411, 'n02747177': 412, 'n02749479': 413, 'n02769748': 414, 'n02776631': 415, 'n02777292': 416, 'n02782093': 417, 'n02783161': 418, 'n02786058': 419, 'n02787622': 420, 'n02788148': 421, 'n02790996': 422, 'n02791124': 423, 'n02791270': 424, 'n02793495': 425, 'n02794156': 426, 'n02795169': 427, 'n02797295': 428, 'n02799071': 429, 'n02802426': 430, 'n02804414': 431, 'n02804610': 432, 'n02807133': 433, 'n02808304': 434, 'n02808440': 435, 'n02814533': 436, 'n02814860': 437, 'n02815834': 438, 'n02817516': 439, 'n02823428': 440, 'n02823750': 441, 'n02825657': 442, 'n02834397': 443, 'n02835271': 444, 'n02837789': 445, 'n02840245': 446, 'n02841315': 447, 'n02843684': 448, 'n02859443': 449, 'n02860847': 450, 'n02865351': 451, 'n02869837': 452, 'n02870880': 453, 'n02871525': 454, 'n02877765': 455, 'n02879718': 456, 'n02883205': 457, 'n02892201': 458, 'n02892767': 459, 'n02894605': 460, 'n02895154': 461, 'n02906734': 462, 'n02909870': 463, 'n02910353': 464, 'n02916936': 465, 'n02917067': 466, 'n02927161': 467, 'n02930766': 468, 'n02939185': 469, 'n02948072': 470, 'n02950826': 471, 'n02951358': 472, 'n02951585': 473, 'n02963159': 474, 'n02965783': 475, 'n02966193': 476, 'n02966687': 477, 'n02971356': 478, 'n02974003': 479, 'n02977058': 480, 'n02978881': 481, 'n02979186': 482, 'n02980441': 483, 'n02981792': 484, 'n02988304': 485, 'n02992211': 486, 'n02992529': 487, 'n02999410': 488, 'n03000134': 489, 'n03000247': 490, 'n03000684': 491, 'n03014705': 492, 'n03016953': 493, 'n03017168': 494, 'n03018349': 495, 'n03026506': 496, 'n03028079': 497, 'n03032252': 498, 'n03041632': 499, 'n03042490': 500, 'n03045698': 501, 'n03047690': 502, 'n03062245': 503, 'n03063599': 504, 'n03063689': 505, 'n03065424': 506, 'n03075370': 507, 'n03085013': 508, 'n03089624': 509, 'n03095699': 510, 'n03100240': 511, 'n03109150': 512, 'n03110669': 513, 'n03124043': 514, 'n03124170': 515, 'n03125729': 516, 'n03126707': 517, 'n03127747': 518, 'n03127925': 519, 'n03131574': 520, 'n03133878': 521, 'n03134739': 522, 'n03141823': 523, 'n03146219': 524, 'n03160309': 525, 'n03179701': 526, 'n03180011': 527, 'n03187595': 528, 'n03188531': 529, 'n03196217': 530, 'n03197337': 531, 'n03201208': 532, 'n03207743': 533, 'n03207941': 534, 'n03208938': 535, 'n03216828': 536, 'n03218198': 537, 'n03220513': 538, 'n03223299': 539, 'n03240683': 540, 'n03249569': 541, 'n03250847': 542, 'n03255030': 543, 'n03259280': 544, 'n03271574': 545, 'n03272010': 546, 'n03272562': 547, 'n03290653': 548, 'n03291819': 549, 'n03297495': 550, 'n03314780': 551, 'n03325584': 552, 'n03337140': 553, 'n03344393': 554, 'n03345487': 555, 'n03347037': 556, 'n03355925': 557, 'n03372029': 558, 'n03376595': 559, 'n03379051': 560, 'n03384352': 561, 'n03388043': 562, 'n03388183': 563, 'n03388549': 564, 'n03393912': 565, 'n03394916': 566, 'n03400231': 567, 'n03404251': 568, 'n03417042': 569, 'n03424325': 570, 'n03425413': 571, 'n03443371': 572, 'n03444034': 573, 'n03445777': 574, 'n03445924': 575, 'n03447447': 576, 'n03447721': 577, 'n03450230': 578, 'n03452741': 579, 'n03457902': 580, 'n03459775': 581, 'n03461385': 582, 'n03467068': 583, 'n03476684': 584, 'n03476991': 585, 'n03478589': 586, 'n03481172': 587, 'n03482405': 588, 'n03483316': 589, 'n03485407': 590, 'n03485794': 591, 'n03492542': 592, 'n03494278': 593, 'n03495258': 594, 'n03496892': 595, 'n03498962': 596, 'n03527444': 597, 'n03529860': 598, 'n03530642': 599, 'n03532672': 600, 'n03534580': 601, 'n03535780': 602, 'n03538406': 603, 'n03544143': 604, 'n03584254': 605, 'n03584829': 606, 'n03590841': 607, 'n03594734': 608, 'n03594945': 609, 'n03595614': 610, 'n03598930': 611, 'n03599486': 612, 'n03602883': 613, 'n03617480': 614, 'n03623198': 615, 'n03627232': 616, 'n03630383': 617, 'n03633091': 618, 'n03637318': 619, 'n03642806': 620, 'n03649909': 621, 'n03657121': 622, 'n03658185': 623, 'n03661043': 624, 'n03662601': 625, 'n03666591': 626, 'n03670208': 627, 'n03673027': 628, 'n03676483': 629, 'n03680355': 630, 'n03690938': 631, 'n03691459': 632, 'n03692522': 633, 'n03697007': 634, 'n03706229': 635, 'n03709823': 636, 'n03710193': 637, 'n03710637': 638, 'n03710721': 639, 'n03717622': 640, 'n03720891': 641, 'n03721384': 642, 'n03724870': 643, 'n03729826': 644, 'n03733131': 645, 'n03733281': 646, 'n03733805': 647, 'n03742115': 648, 'n03743016': 649, 'n03759954': 650, 'n03761084': 651, 'n03763968': 652, 'n03764736': 653, 'n03769881': 654, 'n03770439': 655, 'n03770679': 656, 'n03773504': 657, 'n03775071': 658, 'n03775546': 659, 'n03776460': 660, 'n03777568': 661, 'n03777754': 662, 'n03781244': 663, 'n03782006': 664, 'n03785016': 665, 'n03786901': 666, 'n03787032': 667, 'n03788195': 668, 'n03788365': 669, 'n03791053': 670, 'n03792782': 671, 'n03792972': 672, 'n03793489': 673, 'n03794056': 674, 'n03796401': 675, 'n03803284': 676, 'n03804744': 677, 'n03814639': 678, 'n03814906': 679, 'n03825788': 680, 'n03832673': 681, 'n03837869': 682, 'n03838899': 683, 'n03840681': 684, 'n03841143': 685, 'n03843555': 686, 'n03854065': 687, 'n03857828': 688, 'n03866082': 689, 'n03868242': 690, 'n03868863': 691, 'n03871628': 692, 'n03873416': 693, 'n03874293': 694, 'n03874599': 695, 'n03876231': 696, 'n03877472': 697, 'n03877845': 698, 'n03884397': 699, 'n03887697': 700, 'n03888257': 701, 'n03888605': 702, 'n03891251': 703, 'n03891332': 704, 'n03895866': 705, 'n03899768': 706, 'n03902125': 707, 'n03903868': 708, 'n03908618': 709, 'n03908714': 710, 'n03916031': 711, 'n03920288': 712, 'n03924679': 713, 'n03929660': 714, 'n03929855': 715, 'n03930313': 716, 'n03930630': 717, 'n03933933': 718, 'n03935335': 719, 'n03937543': 720, 'n03938244': 721, 'n03942813': 722, 'n03944341': 723, 'n03947888': 724, 'n03950228': 725, 'n03954731': 726, 'n03956157': 727, 'n03958227': 728, 'n03961711': 729, 'n03967562': 730, 'n03970156': 731, 'n03976467': 732, 'n03976657': 733, 'n03977966': 734, 'n03980874': 735, 'n03982430': 736, 'n03983396': 737, 'n03991062': 738, 'n03992509': 739, 'n03995372': 740, 'n03998194': 741, 'n04004767': 742, 'n04005630': 743, 'n04008634': 744, 'n04009552': 745, 'n04019541': 746, 'n04023962': 747, 'n04026417': 748, 'n04033901': 749, 'n04033995': 750, 'n04037443': 751, 'n04039381': 752, 'n04040759': 753, 'n04041544': 754, 'n04044716': 755, 'n04049303': 756, 'n04065272': 757, 'n04067472': 758, 'n04069434': 759, 'n04070727': 760, 'n04074963': 761, 'n04081281': 762, 'n04086273': 763, 'n04090263': 764, 'n04099969': 765, 'n04111531': 766, 'n04116512': 767, 'n04118538': 768, 'n04118776': 769, 'n04120489': 770, 'n04125021': 771, 'n04127249': 772, 'n04131690': 773, 'n04133789': 774, 'n04136333': 775, 'n04141076': 776, 'n04141327': 777, 'n04141975': 778, 'n04146614': 779, 'n04147183': 780, 'n04149813': 781, 'n04152593': 782, 'n04153751': 783, 'n04154565': 784, 'n04162706': 785, 'n04179913': 786, 'n04192698': 787, 'n04200800': 788, 'n04201297': 789, 'n04204238': 790, 'n04204347': 791, 'n04208210': 792, 'n04209133': 793, 'n04209239': 794, 'n04228054': 795, 'n04229816': 796, 'n04235860': 797, 'n04238763': 798, 'n04239074': 799, 'n04243546': 800, 'n04251144': 801, 'n04252077': 802, 'n04252225': 803, 'n04254120': 804, 'n04254680': 805, 'n04254777': 806, 'n04258138': 807, 'n04259630': 808, 'n04263257': 809, 'n04264628': 810, 'n04265275': 811, 'n04266014': 812, 'n04270147': 813, 'n04273569': 814, 'n04275548': 815, 'n04277352': 816, 'n04285008': 817, 'n04286575': 818, 'n04296562': 819, 'n04310018': 820, 'n04311004': 821, 'n04311174': 822, 'n04317175': 823, 'n04325704': 824, 'n04326547': 825, 'n04328186': 826, 'n04330267': 827, 'n04332243': 828, 'n04335435': 829, 'n04336792': 830, 'n04344873': 831, 'n04346328': 832, 'n04347754': 833, 'n04350905': 834, 'n04355338': 835, 'n04355933': 836, 'n04356056': 837, 'n04357314': 838, 'n04366367': 839, 'n04367480': 840, 'n04370456': 841, 'n04371430': 842, 'n04371774': 843, 'n04372370': 844, 'n04376876': 845, 'n04380533': 846, 'n04389033': 847, 'n04392985': 848, 'n04398044': 849, 'n04399382': 850, 'n04404412': 851, 'n04409515': 852, 'n04417672': 853, 'n04418357': 854, 'n04423845': 855, 'n04428191': 856, 'n04429376': 857, 'n04435653': 858, 'n04442312': 859, 'n04443257': 860, 'n04447861': 861, 'n04456115': 862, 'n04458633': 863, 'n04461696': 864, 'n04462240': 865, 'n04465501': 866, 'n04467665': 867, 'n04476259': 868, 'n04479046': 869, 'n04482393': 870, 'n04483307': 871, 'n04485082': 872, 'n04486054': 873, 'n04487081': 874, 'n04487394': 875, 'n04493381': 876, 'n04501370': 877, 'n04505470': 878, 'n04507155': 879, 'n04509417': 880, 'n04515003': 881, 'n04517823': 882, 'n04522168': 883, 'n04523525': 884, 'n04525038': 885, 'n04525305': 886, 'n04532106': 887, 'n04532670': 888, 'n04536866': 889, 'n04540053': 890, 'n04542943': 891, 'n04548280': 892, 'n04548362': 893, 'n04550184': 894, 'n04552348': 895, 'n04553703': 896, 'n04554684': 897, 'n04557648': 898, 'n04560804': 899, 'n04562935': 900, 'n04579145': 901, 'n04579432': 902, 'n04584207': 903, 'n04589890': 904, 'n04590129': 905, 'n04591157': 906, 'n04591713': 907, 'n04592741': 908, 'n04596742': 909, 'n04597913': 910, 'n04599235': 911, 'n04604644': 912, 'n04606251': 913, 'n04612504': 914, 'n04613696': 915, 'n06359193': 916, 'n06596364': 917, 'n06785654': 918, 'n06794110': 919, 'n06874185': 920, 'n07248320': 921, 'n07565083': 922, 'n07579787': 923, 'n07583066': 924, 'n07584110': 925, 'n07590611': 926, 'n07613480': 927, 'n07614500': 928, 'n07615774': 929, 'n07684084': 930, 'n07693725': 931, 'n07695742': 932, 'n07697313': 933, 'n07697537': 934, 'n07711569': 935, 'n07714571': 936, 'n07714990': 937, 'n07715103': 938, 'n07716358': 939, 'n07716906': 940, 'n07717410': 941, 'n07717556': 942, 'n07718472': 943, 'n07718747': 944, 'n07720875': 945, 'n07730033': 946, 'n07734744': 947, 'n07742313': 948, 'n07745940': 949, 'n07747607': 950, 'n07749582': 951, 'n07753113': 952, 'n07753275': 953, 'n07753592': 954, 'n07754684': 955, 'n07760859': 956, 'n07768694': 957, 'n07802026': 958, 'n07831146': 959, 'n07836838': 960, 'n07860988': 961, 'n07871810': 962, 'n07873807': 963, 'n07875152': 964, 'n07880968': 965, 'n07892512': 966, 'n07920052': 967, 'n07930864': 968, 'n07932039': 969, 'n09193705': 970, 'n09229709': 971, 'n09246464': 972, 'n09256479': 973, 'n09288635': 974, 'n09332890': 975, 'n09399592': 976, 'n09421951': 977, 'n09428293': 978, 'n09468604': 979, 'n09472597': 980, 'n09835506': 981, 'n10148035': 982, 'n10565667': 983, 'n11879895': 984, 'n11939491': 985, 'n12057211': 986, 'n12144580': 987, 'n12267677': 988, 'n12620546': 989, 'n12768682': 990, 'n12985857': 991, 'n12998815': 992, 'n13037406': 993, 'n13040303': 994, 'n13044778': 995, 'n13052670': 996, 'n13054560': 997, 'n13133613': 998, 'n15075141': 999}\n",
      "{0: 0, 1: 1, 2: 2, 3: 3, 4: 4, 5: 5, 6: 6, 7: 7, 8: 8, 9: 9, 10: 10, 11: 11, 12: 12, 13: 13, 14: 14, 15: 15, 16: 16, 17: 17, 18: 18, 19: 19, 20: 20, 21: 21, 22: 22, 24: 23, 25: 24, 26: 25, 27: 26, 28: 27, 29: 28, 30: 29, 31: 30, 32: 31, 33: 32, 34: 33, 35: 34, 36: 35, 37: 36, 38: 37, 39: 38, 40: 39, 42: 40, 43: 41, 44: 42, 45: 43, 46: 44, 47: 45, 48: 46, 49: 47, 50: 48, 51: 49, 52: 50, 53: 51, 54: 52, 55: 53, 56: 54, 57: 55, 58: 56, 59: 57, 60: 58, 61: 59, 62: 60, 63: 61, 65: 62, 66: 63, 67: 64, 68: 65, 69: 66, 70: 67, 71: 68, 72: 69, 73: 70, 74: 71, 75: 72, 76: 73, 77: 74, 78: 75, 79: 76, 80: 77, 81: 78, 82: 79, 83: 80, 84: 81, 85: 82, 86: 83, 87: 84, 88: 85, 89: 86, 90: 87, 91: 88, 92: 89, 93: 90, 94: 91, 95: 92, 96: 93, 97: 94, 98: 95, 99: 96, 100: 97, 102: 98, 103: 99, 104: 100, 105: 101, 106: 102, 107: 103, 108: 104, 109: 105, 110: 106, 111: 107, 112: 108, 113: 109, 114: 110, 115: 111, 116: 112, 117: 113, 118: 114, 119: 115, 120: 116, 121: 117, 122: 118, 123: 119, 124: 120, 125: 121, 126: 122, 127: 123, 128: 124, 129: 125, 130: 126, 131: 127, 132: 128, 134: 129, 135: 130, 136: 131, 137: 132, 138: 133, 139: 134, 140: 135, 141: 136, 142: 137, 143: 138, 144: 139, 145: 140, 147: 141, 148: 142, 149: 143, 150: 144, 151: 145, 152: 146, 153: 147, 154: 148, 155: 149, 156: 150, 157: 151, 158: 152, 159: 153, 160: 154, 161: 155, 162: 156, 163: 157, 164: 158, 165: 159, 166: 160, 167: 161, 168: 162, 170: 163, 171: 164, 172: 165, 173: 166, 174: 167, 175: 168, 176: 169, 177: 170, 178: 171, 179: 172, 180: 173, 181: 174, 182: 175, 183: 176, 184: 177, 185: 178, 186: 179, 188: 180, 189: 181, 190: 182, 191: 183, 192: 184, 193: 185, 194: 186, 195: 187, 196: 188, 197: 189, 198: 190, 199: 191, 200: 192, 201: 193, 202: 194, 203: 195, 204: 196, 206: 197, 208: 198, 209: 199, 210: 200, 211: 201, 212: 202, 213: 203, 214: 204, 215: 205, 216: 206, 217: 207, 218: 208, 219: 209, 220: 210, 221: 211, 222: 212, 223: 213, 224: 214, 225: 215, 226: 216, 228: 217, 229: 218, 230: 219, 231: 220, 232: 221, 234: 222, 235: 223, 236: 224, 237: 225, 238: 226, 239: 227, 240: 228, 241: 229, 242: 230, 243: 231, 244: 232, 245: 233, 247: 234, 248: 235, 249: 236, 250: 237, 251: 238, 252: 239, 253: 240, 254: 241, 255: 242, 256: 243, 257: 244, 258: 245, 259: 246, 260: 247, 261: 248, 262: 249, 263: 250, 264: 251, 265: 252, 266: 253, 267: 254, 268: 255, 269: 256, 270: 257, 271: 258, 272: 259, 273: 260, 274: 261, 275: 262, 276: 263, 277: 264, 278: 265, 279: 266, 280: 267, 281: 268, 282: 269, 283: 270, 284: 271, 285: 272, 286: 273, 287: 274, 288: 275, 289: 276, 290: 277, 291: 278, 292: 279, 293: 280, 294: 281, 295: 282, 296: 283, 297: 284, 298: 285, 299: 286, 300: 287, 301: 288, 302: 289, 303: 290, 304: 291, 305: 292, 306: 293, 307: 294, 308: 295, 309: 296, 310: 297, 311: 298, 312: 299, 313: 300, 314: 301, 315: 302, 316: 303, 317: 304, 318: 305, 319: 306, 320: 307, 321: 308, 322: 309, 323: 310, 324: 311, 325: 312, 326: 313, 327: 314, 328: 315, 329: 316, 330: 317, 331: 318, 332: 319, 333: 320, 334: 321, 335: 322, 336: 323, 337: 324, 338: 325, 339: 326, 340: 327, 341: 328, 342: 329, 343: 330, 344: 331, 345: 332, 346: 333, 347: 334, 348: 335, 349: 336, 350: 337, 351: 338, 352: 339, 353: 340, 354: 341, 355: 342, 356: 343, 357: 344, 358: 345, 359: 346, 360: 347, 362: 348, 363: 349, 364: 350, 365: 351, 366: 352, 367: 353, 368: 354, 369: 355, 370: 356, 371: 357, 373: 358, 374: 359, 376: 360, 377: 361, 378: 362, 379: 363, 380: 364, 381: 365, 382: 366, 383: 367, 384: 368, 385: 369, 386: 370, 387: 371, 388: 372, 389: 373, 390: 374, 391: 375, 392: 376, 393: 377, 394: 378, 395: 379, 396: 380, 397: 381, 398: 382, 399: 383, 400: 384, 401: 385, 402: 386, 404: 387, 405: 388, 406: 389, 407: 390, 408: 391, 409: 392, 410: 393, 411: 394, 412: 395, 413: 396, 414: 397, 415: 398, 416: 399, 417: 400, 418: 401, 419: 402, 420: 403, 421: 404, 422: 405, 423: 406, 424: 407, 425: 408, 427: 409, 428: 410, 429: 411, 430: 412, 431: 413, 432: 414, 433: 415, 434: 416, 435: 417, 436: 418, 437: 419, 438: 420, 439: 421, 440: 422, 442: 423, 443: 424, 444: 425, 445: 426, 446: 427, 447: 428, 448: 429, 449: 430, 450: 431, 452: 432, 453: 433, 454: 434, 455: 435, 456: 436, 457: 437, 458: 438, 459: 439, 460: 440, 461: 441, 462: 442, 463: 443, 464: 444, 465: 445, 466: 446, 467: 447, 468: 448, 469: 449, 470: 450, 471: 451, 472: 452, 473: 453, 474: 454, 476: 455, 477: 456, 479: 457, 480: 458, 481: 459, 482: 460, 483: 461, 484: 462, 486: 463, 487: 464, 488: 465, 489: 466, 490: 467, 491: 468, 492: 469, 493: 470, 494: 471, 495: 472, 496: 473, 497: 474, 498: 475, 499: 476, 500: 477, 501: 478, 502: 479, 503: 480, 504: 481, 505: 482, 506: 483, 507: 484, 508: 485, 511: 486, 512: 487, 513: 488, 514: 489, 515: 490, 516: 491, 517: 492, 518: 493, 519: 494, 520: 495, 521: 496, 522: 497, 523: 498, 524: 499, 525: 500, 526: 501, 527: 502, 528: 503, 529: 504, 530: 505, 531: 506, 532: 507, 533: 508, 534: 509, 535: 510, 536: 511, 537: 512, 538: 513, 539: 514, 540: 515, 541: 516, 542: 517, 543: 518, 544: 519, 545: 520, 546: 521, 547: 522, 548: 523, 549: 524, 550: 525, 551: 526, 552: 527, 553: 528, 554: 529, 555: 530, 556: 531, 557: 532, 558: 533, 559: 534, 560: 535, 561: 536, 563: 537, 564: 538, 565: 539, 566: 540, 567: 541, 568: 542, 569: 543, 570: 544, 571: 545, 572: 546, 573: 547, 574: 548, 575: 549, 576: 550, 577: 551, 578: 552, 579: 553, 580: 554, 581: 555, 582: 556, 583: 557, 584: 558, 585: 559, 586: 560, 587: 561, 588: 562, 589: 563, 590: 564, 591: 565, 592: 566, 593: 567, 594: 568, 595: 569, 596: 570, 597: 571, 598: 572, 599: 573, 600: 574, 601: 575, 602: 576, 603: 577, 604: 578, 605: 579, 606: 580, 607: 581, 608: 582, 609: 583, 610: 584, 611: 585, 612: 586, 613: 587, 614: 588, 615: 589, 616: 590, 617: 591, 618: 592, 619: 593, 620: 594, 621: 595, 622: 596, 623: 597, 624: 598, 625: 599, 626: 600, 627: 601, 628: 602, 629: 603, 630: 604, 631: 605, 632: 606, 633: 607, 634: 608, 635: 609, 636: 610, 637: 611, 638: 612, 639: 613, 640: 614, 641: 615, 642: 616, 643: 617, 644: 618, 645: 619, 646: 620, 647: 621, 648: 622, 649: 623, 650: 624, 651: 625, 652: 626, 653: 627, 654: 628, 655: 629, 656: 630, 657: 631, 658: 632, 659: 633, 660: 634, 661: 635, 662: 636, 663: 637, 664: 638, 665: 639, 666: 640, 667: 641, 668: 642, 669: 643, 670: 644, 671: 645, 672: 646, 673: 647, 674: 648, 675: 649, 676: 650, 677: 651, 678: 652, 679: 653, 680: 654, 681: 655, 682: 656, 683: 657, 684: 658, 685: 659, 686: 660, 687: 661, 688: 662, 689: 663, 690: 664, 691: 665, 692: 666, 693: 667, 694: 668, 695: 669, 696: 670, 697: 671, 698: 672, 699: 673, 700: 674, 701: 675, 702: 676, 703: 677, 704: 678, 705: 679, 706: 680, 707: 681, 708: 682, 709: 683, 711: 684, 712: 685, 714: 686, 716: 687, 717: 688, 718: 689, 719: 690, 720: 691, 721: 692, 722: 693, 725: 694, 727: 695, 728: 696, 729: 697, 730: 698, 731: 699, 732: 700, 733: 701, 734: 702, 735: 703, 736: 704, 737: 705, 739: 706, 740: 707, 741: 708, 742: 709, 743: 710, 744: 711, 745: 712, 746: 713, 747: 714, 748: 715, 749: 716, 750: 717, 751: 718, 752: 719, 753: 720, 754: 721, 755: 722, 756: 723, 757: 724, 758: 725, 760: 726, 761: 727, 762: 728, 764: 729, 765: 730, 766: 731, 767: 732, 768: 733, 769: 734, 770: 735, 771: 736, 772: 737, 773: 738, 774: 739, 775: 740, 776: 741, 777: 742, 778: 743, 779: 744, 780: 745, 781: 746, 782: 747, 783: 748, 784: 749, 785: 750, 786: 751, 787: 752, 788: 753, 789: 754, 790: 755, 791: 756, 792: 757, 793: 758, 794: 759, 795: 760, 796: 761, 797: 762, 798: 763, 799: 764, 800: 765, 802: 766, 803: 767, 804: 768, 805: 769, 806: 770, 807: 771, 808: 772, 809: 773, 810: 774, 811: 775, 813: 776, 814: 777, 815: 778, 816: 779, 818: 780, 819: 781, 820: 782, 821: 783, 822: 784, 823: 785, 824: 786, 825: 787, 826: 788, 827: 789, 828: 790, 829: 791, 830: 792, 832: 793, 833: 794, 834: 795, 835: 796, 836: 797, 837: 798, 838: 799, 839: 800, 840: 801, 841: 802, 842: 803, 843: 804, 844: 805, 845: 806, 846: 807, 847: 808, 848: 809, 849: 810, 850: 811, 851: 812, 852: 813, 854: 814, 855: 815, 856: 816, 857: 817, 858: 818, 859: 819, 860: 820, 861: 821, 862: 822, 863: 823, 864: 824, 865: 825, 866: 826, 867: 827, 868: 828, 869: 829, 870: 830, 871: 831, 872: 832, 873: 833, 874: 834, 875: 835, 876: 836, 877: 837, 878: 838, 879: 839, 880: 840, 881: 841, 882: 842, 883: 843, 884: 844, 885: 845, 886: 846, 887: 847, 888: 848, 889: 849, 890: 850, 892: 851, 893: 852, 894: 853, 895: 854, 896: 855, 897: 856, 898: 857, 899: 858, 900: 859, 901: 860, 902: 861, 903: 862, 904: 863, 905: 864, 906: 865, 907: 866, 908: 867, 909: 868, 910: 869, 911: 870, 912: 871, 913: 872, 914: 873, 915: 874, 916: 875, 917: 876, 918: 877, 919: 878, 920: 879, 921: 880, 922: 881, 923: 882, 924: 883, 925: 884, 926: 885, 927: 886, 928: 887, 929: 888, 930: 889, 931: 890, 932: 891, 933: 892, 934: 893, 935: 894, 936: 895, 937: 896, 938: 897, 939: 898, 940: 899, 941: 900, 942: 901, 943: 902, 944: 903, 945: 904, 946: 905, 947: 906, 948: 907, 949: 908, 951: 909, 952: 910, 953: 911, 954: 912, 955: 913, 956: 914, 957: 915, 958: 916, 959: 917, 960: 918, 961: 919, 962: 920, 963: 921, 964: 922, 965: 923, 966: 924, 967: 925, 968: 926, 969: 927, 970: 928, 971: 929, 972: 930, 973: 931, 974: 932, 975: 933, 976: 934, 977: 935, 978: 936, 979: 937, 980: 938, 981: 939, 982: 940, 983: 941, 984: 942, 985: 943, 986: 944, 987: 945, 988: 946, 989: 947, 990: 948, 991: 949, 992: 950, 993: 951, 994: 952, 995: 953, 996: 954, 997: 955, 998: 956, 999: 957}\n"
     ]
    }
   ],
   "source": [
    "print(train_dataset_initial.class_to_idx)\n",
    "remap_dict = { x:i for i, x in enumerate(chosen_classes)}\n",
    "print(remap_dict)"
   ]
  },
  {
   "cell_type": "code",
   "execution_count": 34,
   "metadata": {},
   "outputs": [
    {
     "ename": "AttributeError",
     "evalue": "'Tensor' object has no attribute 'map'",
     "output_type": "error",
     "traceback": [
      "\u001b[0;31m---------------------------------------------------------------------------\u001b[0m",
      "\u001b[0;31mAttributeError\u001b[0m                            Traceback (most recent call last)",
      "\u001b[0;32m<ipython-input-34-6c5a46c91b3f>\u001b[0m in \u001b[0;36m<module>\u001b[0;34m\u001b[0m\n\u001b[1;32m      1\u001b[0m \u001b[0mtarget\u001b[0m \u001b[0;34m=\u001b[0m \u001b[0mtorch\u001b[0m\u001b[0;34m.\u001b[0m\u001b[0mtensor\u001b[0m\u001b[0;34m(\u001b[0m\u001b[0;34m[\u001b[0m\u001b[0;36m0\u001b[0m\u001b[0;34m,\u001b[0m\u001b[0;36m999\u001b[0m\u001b[0;34m,\u001b[0m \u001b[0;36m887\u001b[0m\u001b[0;34m]\u001b[0m\u001b[0;34m)\u001b[0m\u001b[0;34m\u001b[0m\u001b[0;34m\u001b[0m\u001b[0m\n\u001b[0;32m----> 2\u001b[0;31m \u001b[0mtarget\u001b[0m \u001b[0;34m=\u001b[0m \u001b[0mtarget\u001b[0m\u001b[0;34m.\u001b[0m\u001b[0mmap\u001b[0m\u001b[0;34m(\u001b[0m\u001b[0;32mlambda\u001b[0m \u001b[0mx\u001b[0m\u001b[0;34m:\u001b[0m \u001b[0mremap_dict\u001b[0m\u001b[0;34m[\u001b[0m\u001b[0mx\u001b[0m\u001b[0;34m]\u001b[0m\u001b[0;34m)\u001b[0m\u001b[0;34m\u001b[0m\u001b[0;34m\u001b[0m\u001b[0m\n\u001b[0m",
      "\u001b[0;31mAttributeError\u001b[0m: 'Tensor' object has no attribute 'map'"
     ]
    }
   ],
   "source": [
    "target = torch.tensor([0,999, 887])\n",
    "target = target.map(lambda x: remap_dict[x])"
   ]
  },
  {
   "cell_type": "code",
   "execution_count": null,
   "metadata": {},
   "outputs": [],
   "source": [
    "label_set = set([train_dataset_initial.imgs[index][1] for index in range(len(train_dataset_initial)) if train_dataset_initial.imgs[index][1] in chosen_classes])"
   ]
  },
  {
   "cell_type": "code",
   "execution_count": 9,
   "metadata": {},
   "outputs": [
    {
     "name": "stdout",
     "output_type": "stream",
     "text": [
      "[0, 1, 2, 3, 4, 5, 6, 7, 8, 9, 10, 11, 12, 13, 14, 15, 16, 17, 18, 19, 20, 21, 22, 23, 24, 25, 26, 27, 28, 29, 30, 31, 32, 33, 34, 35, 36, 37, 38, 39, 40, 41, 42, 43, 44, 45, 46, 47, 48, 49, 50, 51, 52, 53, 54, 55, 56, 57, 58, 59, 60, 61, 62, 63, 64, 65, 66, 67, 68, 69, 70, 71, 72, 73, 74, 75, 76, 77, 78, 79, 80, 81, 82, 83, 84, 85, 86, 87, 88, 89, 90, 91, 92, 93, 94, 95, 96, 97, 98, 99]\n"
     ]
    }
   ],
   "source": [
    "print(chosen_index_train[:100])"
   ]
  }
 ],
 "metadata": {
  "interpreter": {
   "hash": "519dc1f00dacae036a835ca12c4661958509fbd43f895bd5282c37997e841633"
  },
  "kernelspec": {
   "display_name": "Python 3 (ipykernel)",
   "language": "python",
   "name": "python3"
  },
  "language_info": {
   "codemirror_mode": {
    "name": "ipython",
    "version": 3
   },
   "file_extension": ".py",
   "mimetype": "text/x-python",
   "name": "python",
   "nbconvert_exporter": "python",
   "pygments_lexer": "ipython3",
   "version": "3.7.11"
  }
 },
 "nbformat": 4,
 "nbformat_minor": 2
}
