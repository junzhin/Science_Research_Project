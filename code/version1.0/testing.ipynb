{
 "cells": [
  {
   "cell_type": "code",
   "execution_count": null,
   "metadata": {},
   "outputs": [],
   "source": [
    "import pandas as pd\n",
    "import textdistance"
   ]
  },
  {
   "cell_type": "code",
   "execution_count": null,
   "metadata": {},
   "outputs": [],
   "source": [
    "path = r'examlpe'\n",
    "dataframe_of_address = pd.read_csv(path)\n",
    "addresses_list = list(dataframe_of_address[0])"
   ]
  },
  {
   "cell_type": "code",
   "execution_count": null,
   "metadata": {},
   "outputs": [],
   "source": [
    "def find_similars_addresses_dict(single_search, address_list, threshold):\n",
    "\n",
    "    similarity_dict = {}\n",
    "    threshold = 0.9\n",
    "    for source in addresses_list: \n",
    "        for target in addresses_list:\n",
    "            similarity_dict[source] = set()\n",
    "            similarity_score = textdistance.smith_waterman.normalized_similarity(source,target)\n",
    "            if similarity_score >= threshold and source != target:\n",
    "                    similarity_dict[source].add([target,similarity_score])\n",
    "\n",
    "    for each_address in similarity_dict:\n",
    "        similarity_dict[each_address].sort(key=lambda x: x[1], reverse = True)\n",
    "\n",
    "\n",
    "    return similarity_dict\n"
   ]
  },
  {
   "cell_type": "code",
   "execution_count": null,
   "metadata": {},
   "outputs": [],
   "source": []
  }
 ],
 "metadata": {
  "interpreter": {
   "hash": "ae6ee5a9a23903531b85855ddaec003b2b25bc3377d4b2994b4453574338bca0"
  },
  "kernelspec": {
   "display_name": "Python 3.7.11 64-bit ('base': conda)",
   "language": "python",
   "name": "python3"
  },
  "language_info": {
   "name": "python",
   "version": "3.7.11"
  },
  "orig_nbformat": 4
 },
 "nbformat": 4,
 "nbformat_minor": 2
}
