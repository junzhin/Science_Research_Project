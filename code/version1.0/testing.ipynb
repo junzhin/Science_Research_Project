{
 "cells": [
  {
   "cell_type": "code",
   "execution_count": 1,
   "metadata": {},
   "outputs": [
    {
     "name": "stdout",
     "output_type": "stream",
     "text": [
      "<bound method Mapping.keys of environ({'SHELL': '/bin/zsh', 'TMPDIR': '/var/folders/6n/9gywnkc10_xcl7h0sv1npxn40000gn/T/', 'CONDA_SHLVL': '1', 'PYTHONUNBUFFERED': '1', 'CONDA_PROMPT_MODIFIER': '(base) ', 'ORIGINAL_XDG_CURRENT_DESKTOP': 'undefined', 'PYTHONIOENCODING': 'utf-8', 'USER': 'junzhin', 'VSCODE_VERBOSE_LOGGING': 'true', 'COMMAND_MODE': 'unix2003', 'CONDA_EXE': '/Users/junzhin/opt/anaconda3/bin/conda', 'SSH_AUTH_SOCK': '/private/tmp/com.apple.launchd.skKO2VdFh8/Listeners', 'VSCODE_PIPE_LOGGING': 'true', '__CF_USER_TEXT_ENCODING': '0x1F5:0x19:0x34', 'VSCODE_LOG_STACK': 'false', 'VSCODE_AMD_ENTRYPOINT': 'vs/workbench/services/extensions/node/extensionHostProcess', 'ELECTRON_RUN_AS_NODE': '1', '_CE_CONDA': '', 'PATH': '/Users/junzhin/opt/anaconda3/bin:/Users/junzhin/opt/anaconda3/condabin:/usr/local/bin:/usr/bin:/bin:/usr/sbin:/sbin', 'CONDA_PREFIX': '/Users/junzhin/opt/anaconda3', '__CFBundleIdentifier': 'com.microsoft.VSCode', 'PWD': '/', 'VSCODE_HANDLES_UNCAUGHT_ERRORS': 'true', 'XPC_FLAGS': '0x0', 'VSCODE_LOG_NATIVE': 'false', '_CE_M': '', 'XPC_SERVICE_NAME': '0', 'SHLVL': '1', 'HOME': '/Users/junzhin', 'APPLICATION_INSIGHTS_NO_DIAGNOSTIC_CHANNEL': 'true', 'VSCODE_IPC_HOOK_EXTHOST': '/var/folders/6n/9gywnkc10_xcl7h0sv1npxn40000gn/T/vscode-ipc-e85770da-ef04-49de-8e4b-fef69f97f81e.sock', 'VSCODE_NLS_CONFIG': '{\"locale\":\"zh-cn\",\"availableLanguages\":{},\"_languagePackSupport\":true}', 'CONDA_PYTHON_EXE': '/Users/junzhin/opt/anaconda3/bin/python', 'LOGNAME': 'junzhin', 'VSCODE_IPC_HOOK': '/Users/junzhin/Library/Application Support/Code/1.63.2-main.sock', 'VSCODE_CODE_CACHE_PATH': '/Users/junzhin/Library/Application Support/Code/CachedData/899d46d82c4c95423fb7e10e68eba52050e30ba3', 'CONDA_DEFAULT_ENV': 'base', 'VSCODE_PID': '10876', 'VSCODE_CWD': '/', '_': '/Users/junzhin/opt/anaconda3/bin/python', 'LC_CTYPE': 'UTF-8', 'PYTHONPATH': '/Users/junzhin/.vscode/extensions/ms-toolsai.jupyter-2021.11.1001550889/pythonFiles:/Users/junzhin/.vscode/extensions/ms-toolsai.jupyter-2021.11.1001550889/pythonFiles/lib/python', 'OLDPWD': '/', 'JPY_PARENT_PID': '21159', 'PYDEVD_USE_FRAME_EVAL': 'NO', 'TERM': 'xterm-color', 'CLICOLOR': '1', 'PAGER': 'cat', 'GIT_PAGER': 'cat', 'MPLBACKEND': 'module://matplotlib_inline.backend_inline'})>\n"
     ]
    }
   ],
   "source": [
    "import os\n",
    "print(os.environ.keys)"
   ]
  }
 ],
 "metadata": {
  "interpreter": {
   "hash": "519dc1f00dacae036a835ca12c4661958509fbd43f895bd5282c37997e841633"
  },
  "kernelspec": {
   "display_name": "Python 3.9.7 64-bit ('base': conda)",
   "language": "python",
   "name": "python3"
  },
  "language_info": {
   "codemirror_mode": {
    "name": "ipython",
    "version": 3
   },
   "file_extension": ".py",
   "mimetype": "text/x-python",
   "name": "python",
   "nbconvert_exporter": "python",
   "pygments_lexer": "ipython3",
   "version": "3.9.7"
  },
  "orig_nbformat": 4
 },
 "nbformat": 4,
 "nbformat_minor": 2
}
